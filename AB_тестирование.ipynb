{
  "cells": [
    {
      "cell_type": "markdown",
      "metadata": {
        "id": "view-in-github",
        "colab_type": "text"
      },
      "source": [
        "<a href=\"https://colab.research.google.com/github/sabinaML/AB_test_analytics_python/blob/main/AB_%D1%82%D0%B5%D1%81%D1%82%D0%B8%D1%80%D0%BE%D0%B2%D0%B0%D0%BD%D0%B8%D0%B5.ipynb\" target=\"_parent\"><img src=\"https://colab.research.google.com/assets/colab-badge.svg\" alt=\"Open In Colab\"/></a>"
      ]
    },
    {
      "cell_type": "code",
      "execution_count": null,
      "metadata": {
        "ExecuteTime": {
          "end_time": "2022-03-01T11:31:19.720003Z",
          "start_time": "2022-03-01T11:31:18.356798Z"
        },
        "id": "dEIuh5b6Gvh_"
      },
      "outputs": [],
      "source": [
        " # Подгрузим пакеты \n",
        "import pandas as pd\n",
        "import numpy as np\n",
        "import matplotlib\n",
        "import matplotlib.pyplot as plt\n",
        "from scipy import stats \n",
        "matplotlib.style.use('ggplot')\n",
        "%matplotlib inline\n",
        "import seaborn as sns\n",
        "from scipy.stats import f_oneway\n",
        "import scipy.stats as stats\n",
        "from scipy import stats"
      ]
    },
    {
      "cell_type": "markdown",
      "metadata": {
        "id": "d9kZQe-1GviC"
      },
      "source": [
        "<div class=\"alert alert-info\">\n",
        "<b>Задание № 1 </b>\n",
        "Вам даны результаты проверки двух препаратов.\n",
        "    \n",
        "Требуется:\n",
        "- Оценить, есть ли различие в эффекте у этих пациентов?\n",
        "- Визуально подтвердить результат\n",
        "    \n",
        "`A` - результаты для группы людей получающих препарат А.\n",
        "\n",
        "`B` - результаты для другой группы людей, получающих препарат B.\n",
        "    \n",
        "</div>"
      ]
    },
    {
      "cell_type": "code",
      "execution_count": null,
      "metadata": {
        "ExecuteTime": {
          "end_time": "2022-03-01T11:32:15.901529Z",
          "start_time": "2022-03-01T11:32:15.888526Z"
        },
        "id": "i_TMUzO1GviE",
        "outputId": "c04e9b1e-e7a2-4035-e6a4-68dab4a796b1"
      },
      "outputs": [
        {
          "data": {
            "text/plain": [
              "0.08451003973499756"
            ]
          },
          "execution_count": 223,
          "metadata": {},
          "output_type": "execute_result"
        }
      ],
      "source": [
        "np.random.seed(11)\n",
        "A = stats.norm.rvs(scale=30, loc=11, size=100)\n",
        "B = A + stats.norm.rvs(scale=54, loc=11, size=100)\n",
        "t,p=stats.ttest_ind(A,B)\n",
        "p\n"
      ]
    },
    {
      "cell_type": "code",
      "execution_count": null,
      "metadata": {
        "id": "4mYjAQELGviF"
      },
      "outputs": [],
      "source": [
        "## p-value более 0,05 - результат статистически НЕ значим, нулевую гипотезу НЕ отклоняем - статистически значимой разницы нет"
      ]
    },
    {
      "cell_type": "code",
      "execution_count": null,
      "metadata": {
        "id": "Zy0-OkMcGviG",
        "outputId": "da2a2566-c9e3-42cc-d504-f426a7de2cf8"
      },
      "outputs": [
        {
          "data": {
            "image/png": "[encoded data removed]",
            "text/plain": [
              "<Figure size 432x288 with 1 Axes>"
            ]
          },
          "metadata": {
            "needs_background": "light"
          },
          "output_type": "display_data"
        }
      ],
      "source": [
        "plt.hist(B);\n",
        "plt.hist(A);"
      ]
    },
    {
      "cell_type": "markdown",
      "metadata": {
        "id": "NB569McXGviG"
      },
      "source": [
        "<div class=\"alert alert-info\">\n",
        "<b>Задание № 2 </b>\n",
        "Вам даны результаты проверки двух препаратов. \n",
        "    \n",
        "Требуется: \n",
        "- Оценить, есть ли различие в эффекте у этих пациентов?\n",
        "- Визуально подтвердить результат\n",
        "    \n",
        "`А` - группа людей без препарата.\n",
        "\n",
        "`B` - та же группа людей, но получающая препарат\n",
        "</div>"
      ]
    },
    {
      "cell_type": "code",
      "execution_count": null,
      "metadata": {
        "ExecuteTime": {
          "end_time": "2022-03-01T11:32:15.917578Z",
          "start_time": "2022-03-01T11:32:15.904528Z"
        },
        "id": "Qh395dF1GviG",
        "outputId": "8fc74773-bf7e-4d10-d7e4-2707fdf455d1"
      },
      "outputs": [
        {
          "data": {
            "text/plain": [
              "0.03238579156467659"
            ]
          },
          "execution_count": 219,
          "metadata": {},
          "output_type": "execute_result"
        }
      ],
      "source": [
        "#применяем t-test для зависимых выборок\n",
        "np.random.seed(11)\n",
        "A = stats.norm.rvs(scale=30, loc=11, size=100)\n",
        "B = A + stats.norm.rvs(scale=54, loc=11, size=100)\n",
        "t,p=stats.ttest_rel(A,B)\n",
        "p\n",
        "# p-value менее 0,05 - результат статистически значим"
      ]
    },
    {
      "cell_type": "code",
      "execution_count": null,
      "metadata": {
        "id": "68zB7UcbGviH",
        "outputId": "8a3c1d0a-1af2-48ae-87d9-6ecf19b91757"
      },
      "outputs": [
        {
          "data": {
            "image/png": "[encoded data removed]",
            "text/plain": [
              "<Figure size 432x288 with 1 Axes>"
            ]
          },
          "metadata": {
            "needs_background": "light"
          },
          "output_type": "display_data"
        }
      ],
      "source": [
        "plt.hist(B);\n",
        "plt.hist(A);"
      ]
    },
    {
      "cell_type": "markdown",
      "metadata": {
        "id": "rbMHcGVeGviH"
      },
      "source": [
        "<div class=\"alert alert-info\">\n",
        "<b>Задание № 3 </b>\n",
        "Допустим вы решили устроить дачный эксперимент. Берем и поливаем одни огурцы водой, другие огурцы водой с удобнением, третью группу огурцов будем поливать минералкой. \n",
        "    \n",
        " - Используя дисперсионный анализ, сделайте выводы о распредлениях результатов. Есть ли эффект от удобрения по сравнению с минералкой? \n",
        " - Помимо результата статистического теста, продемонстрируйте отличия визуально с помощью `boxplot` или `hist`\n",
        "    \n",
        "</div>"
      ]
    },
    {
      "cell_type": "code",
      "execution_count": null,
      "metadata": {
        "ExecuteTime": {
          "end_time": "2022-03-01T11:32:16.028527Z",
          "start_time": "2022-03-01T11:32:15.924532Z"
        },
        "id": "WyhCuxLRGviI",
        "outputId": "f223d7e9-1ece-4f06-bb4d-6fafd16a52b3"
      },
      "outputs": [
        {
          "data": {
            "text/plain": [
              "2.9240047906326866e-05"
            ]
          },
          "execution_count": 226,
          "metadata": {},
          "output_type": "execute_result"
        }
      ],
      "source": [
        "water = [1, 2, 3, 4, 2, 4, 2, 4, 5, 2, 3, 4, 2, 1, 3, 4, 3, 2, 5, 1]\n",
        "nutri = [1, 2, 4, 6, 5, 6, 7, 5, 4, 5, 6, 7, 4, 3, 5, 5, 6, 5, 4, 3, 5]\n",
        "mineral = [2, 1, 1, 3, 2, 4, 2, 4, 5, 4, 3, 2, 3, 2, 3, 1, 3, 4, 5, 1, 4]\n",
        "\n",
        "t,p=stats.f_oneway(water, nutri, mineral )\n",
        "p"
      ]
    },
    {
      "cell_type": "code",
      "execution_count": null,
      "metadata": {
        "id": "Wnl6GTgZGviI"
      },
      "outputs": [],
      "source": [
        "#p-value менее 0,05 - результат статистически значим, отклоняем нулевую гипотезу, эффект от удобрений статистически значим"
      ]
    },
    {
      "cell_type": "code",
      "execution_count": null,
      "metadata": {
        "id": "1NBtaEO1GviI",
        "outputId": "3e265a2f-bf1c-4914-ccbd-478d4d5f2da6"
      },
      "outputs": [
        {
          "data": {
            "image/png": "[encoded data removed]",
            "text/plain": [
              "<Figure size 432x288 with 1 Axes>"
            ]
          },
          "metadata": {
            "needs_background": "light"
          },
          "output_type": "display_data"
        }
      ],
      "source": [
        "plt.boxplot(water);"
      ]
    },
    {
      "cell_type": "code",
      "execution_count": null,
      "metadata": {
        "id": "4Z1ckfsqGviJ",
        "outputId": "2e2d881f-9ed2-4e83-e6c7-1c7a670ec9f3"
      },
      "outputs": [
        {
          "data": {
            "image/png": "[encoded data removed]",
            "text/plain": [
              "<Figure size 432x288 with 1 Axes>"
            ]
          },
          "metadata": {
            "needs_background": "light"
          },
          "output_type": "display_data"
        }
      ],
      "source": [
        "plt.boxplot(nutri);"
      ]
    },
    {
      "cell_type": "code",
      "execution_count": null,
      "metadata": {
        "id": "ERRW4HU2GviJ",
        "outputId": "be1466e8-b010-423b-9e2e-b954313ba959"
      },
      "outputs": [
        {
          "data": {
            "image/png": "[encoded data removed]",
            "text/plain": [
              "<Figure size 432x288 with 1 Axes>"
            ]
          },
          "metadata": {
            "needs_background": "light"
          },
          "output_type": "display_data"
        }
      ],
      "source": [
        "plt.boxplot(mineral);"
      ]
    },
    {
      "cell_type": "markdown",
      "metadata": {
        "id": "u4HJUkF3GviJ"
      },
      "source": [
        "<div class=\"alert alert-info\">\n",
        "Cookie Cats - чрезвычайно популярная мобильная игра-головоломка, разработанная Tactile Entertainment. Это классическая игра-головоломка в стиле «соедините три», в которой игрок должен соединять плитки одного цвета, чтобы очистить поле и выиграть уровень. Здесь также есть поющие кошки. \n",
        "</div>"
      ]
    },
    {
      "cell_type": "markdown",
      "metadata": {
        "id": "itU7xc9vGviJ"
      },
      "source": [
        "<p style=\"align: center;\"><img align=center src=\"https://i.ytimg.com/vi/iPxZIp0cbJE/maxresdefault.jpg\"  width=500></p>\n",
        " \n",
        " \n",
        "<p style=\"align: center;\"><img align=center src=\"https://s3.amazonaws.com/assets.datacamp.com/production/project_184/img/cc_gates.png\"  width=500></p>\n"
      ]
    },
    {
      "cell_type": "markdown",
      "metadata": {
        "id": "wRbibqYSGviK"
      },
      "source": [
        "<div class=\"alert alert-info\">\n",
        "По мере прохождения уровней игры игроки время от времени сталкиваются с воротами, которые заставляют их ждать нетривиальное количество времени или совершать покупки в приложении, чтобы продолжить. Помимо стимулирования покупок в приложении, эти ворота служат важной цели - дать игрокам вынужденный перерыв в игре, что, как мы надеемся, приведет к увеличению и продлению удовольствия от игры.\n",
        "</div>"
      ]
    },
    {
      "cell_type": "markdown",
      "metadata": {
        "id": "svWrkfwcGviK"
      },
      "source": [
        "<div class=\"alert alert-info\">\n",
        "<b>Но где ставить ворота? </b>\n",
        "Первоначально первые ворота были размещены на уровне 30. В этом проекте вам предлагается проанализировать AB-тест, в котором создатели переместили первые ворота в Cookie Cats с 30 уровня на уровень 40. В частности, вам надо рассмотрим влияние A/B теста на удержание игроков.\n",
        "</div>"
      ]
    },
    {
      "cell_type": "markdown",
      "metadata": {
        "id": "Ka3kV5tmGviK"
      },
      "source": [
        "# Данные A/B тестирования"
      ]
    },
    {
      "cell_type": "code",
      "execution_count": null,
      "metadata": {
        "ExecuteTime": {
          "end_time": "2022-03-01T11:32:16.121587Z",
          "start_time": "2022-03-01T11:32:16.031531Z"
        },
        "id": "sSicTHqgGviK",
        "outputId": "0704e70e-644d-46d1-f12e-c81757d59582"
      },
      "outputs": [
        {
          "name": "stderr",
          "output_type": "stream",
          "text": [
            "C:\\Users\\Администратор\\AppData\\Local\\Temp\\ipykernel_19544\\3106034194.py:1: FutureWarning: The error_bad_lines argument has been deprecated and will be removed in a future version. Use on_bad_lines in the future.\n",
            "\n",
            "\n",
            "  data = pd.read_csv('cookie_cats.csv', error_bad_lines=False)  # Откроем датасет\n"
          ]
        },
        {
          "data": {
            "text/html": [
              "<div>\n",
              "<style scoped>\n",
              "    .dataframe tbody tr th:only-of-type {\n",
              "        vertical-align: middle;\n",
              "    }\n",
              "\n",
              "    .dataframe tbody tr th {\n",
              "        vertical-align: top;\n",
              "    }\n",
              "\n",
              "    .dataframe thead th {\n",
              "        text-align: right;\n",
              "    }\n",
              "</style>\n",
              "<table border=\"1\" class=\"dataframe\">\n",
              "  <thead>\n",
              "    <tr style=\"text-align: right;\">\n",
              "      <th></th>\n",
              "      <th>userid</th>\n",
              "      <th>version</th>\n",
              "      <th>sum_gamerounds</th>\n",
              "      <th>retention_1</th>\n",
              "      <th>retention_7</th>\n",
              "    </tr>\n",
              "  </thead>\n",
              "  <tbody>\n",
              "    <tr>\n",
              "      <th>0</th>\n",
              "      <td>116</td>\n",
              "      <td>gate_30</td>\n",
              "      <td>3</td>\n",
              "      <td>False</td>\n",
              "      <td>False</td>\n",
              "    </tr>\n",
              "    <tr>\n",
              "      <th>1</th>\n",
              "      <td>337</td>\n",
              "      <td>gate_30</td>\n",
              "      <td>38</td>\n",
              "      <td>True</td>\n",
              "      <td>False</td>\n",
              "    </tr>\n",
              "    <tr>\n",
              "      <th>2</th>\n",
              "      <td>377</td>\n",
              "      <td>gate_40</td>\n",
              "      <td>165</td>\n",
              "      <td>True</td>\n",
              "      <td>False</td>\n",
              "    </tr>\n",
              "    <tr>\n",
              "      <th>3</th>\n",
              "      <td>483</td>\n",
              "      <td>gate_40</td>\n",
              "      <td>1</td>\n",
              "      <td>False</td>\n",
              "      <td>False</td>\n",
              "    </tr>\n",
              "    <tr>\n",
              "      <th>4</th>\n",
              "      <td>488</td>\n",
              "      <td>gate_40</td>\n",
              "      <td>179</td>\n",
              "      <td>True</td>\n",
              "      <td>True</td>\n",
              "    </tr>\n",
              "  </tbody>\n",
              "</table>\n",
              "</div>"
            ],
            "text/plain": [
              "   userid  version  sum_gamerounds  retention_1  retention_7\n",
              "0     116  gate_30               3        False        False\n",
              "1     337  gate_30              38         True        False\n",
              "2     377  gate_40             165         True        False\n",
              "3     483  gate_40               1        False        False\n",
              "4     488  gate_40             179         True         True"
            ]
          },
          "execution_count": 232,
          "metadata": {},
          "output_type": "execute_result"
        }
      ],
      "source": [
        "data = pd.read_csv('cookie_cats.csv', error_bad_lines=False)  # Откроем датасет\n",
        "data.head()"
      ]
    },
    {
      "cell_type": "markdown",
      "metadata": {
        "id": "RBFue4-6GviL"
      },
      "source": [
        "**Данные получены от 90 189 игроков, которые установили игру во время проведения AB-теста. Переменные:**\n",
        "\n",
        "* `userid` - уникальный номер, идентифицирующий каждого игрока.\n",
        "\n",
        "* `version` - был ли игрок помещен в контрольную группу (gate_30 - ворота на уровне 30) или в тестовую группу (gate_40 - ворота на уровне 40).\n",
        "\n",
        "* `sum_gamerounds` - количество игровых раундов, сыгранных игроком в течение первой недели после установки\n",
        "* `retention_1` - проигрыватель вернулся и поиграл через 1 день после установки?\n",
        "* `retention_7` - проигрыватель вернулся и играл через 7 дней после установки?\n",
        "\n",
        "Когда игрок устанавливал игру, ему случайным образом назначали `gate_30` или `gate_40`."
      ]
    },
    {
      "cell_type": "markdown",
      "metadata": {
        "id": "42qmxmBYGviL"
      },
      "source": [
        "<div class=\"alert alert-info\">\n",
        "<b>Задание: провести анализ данных и сделать выводы о лучшем месте для установки ворот. </b>\n",
        "    \n",
        "Замечание: приведенных вспомогательных фрагментов кода не хватает для ответа на вопрос. \n",
        "Делать выводы необходимо опираясь на статистические тесты, разобранные в лекции. Большим плюсом будет построение визуализиции для подтверждения ваших выводом.\n",
        "</div>"
      ]
    },
    {
      "cell_type": "code",
      "execution_count": null,
      "metadata": {
        "ExecuteTime": {
          "end_time": "2022-03-01T11:32:16.153569Z",
          "start_time": "2022-03-01T11:32:16.125537Z"
        },
        "scrolled": true,
        "id": "qdqD0ekEGviL",
        "outputId": "d6b8f22e-c184-47ca-db0f-cac050aa8993"
      },
      "outputs": [
        {
          "data": {
            "text/plain": [
              "version\n",
              "gate_30    44700\n",
              "gate_40    45489\n",
              "Name: version, dtype: int64"
            ]
          },
          "execution_count": 97,
          "metadata": {},
          "output_type": "execute_result"
        }
      ],
      "source": [
        "# Посмотрим на количество участников теста.\n",
        "data.groupby('version').version.count()"
      ]
    },
    {
      "cell_type": "code",
      "execution_count": null,
      "metadata": {
        "ExecuteTime": {
          "end_time": "2022-03-01T11:32:16.201531Z",
          "start_time": "2022-03-01T11:32:16.157530Z"
        },
        "id": "01rP-0PnGviL",
        "outputId": "8066cfd7-7fda-444b-9f21-9cb6002cfd9d"
      },
      "outputs": [
        {
          "data": {
            "text/html": [
              "<div>\n",
              "<style scoped>\n",
              "    .dataframe tbody tr th:only-of-type {\n",
              "        vertical-align: middle;\n",
              "    }\n",
              "\n",
              "    .dataframe tbody tr th {\n",
              "        vertical-align: top;\n",
              "    }\n",
              "\n",
              "    .dataframe thead th {\n",
              "        text-align: right;\n",
              "    }\n",
              "</style>\n",
              "<table border=\"1\" class=\"dataframe\">\n",
              "  <thead>\n",
              "    <tr style=\"text-align: right;\">\n",
              "      <th></th>\n",
              "      <th>userid</th>\n",
              "      <th>sum_gamerounds</th>\n",
              "      <th>retention_1</th>\n",
              "      <th>retention_7</th>\n",
              "    </tr>\n",
              "    <tr>\n",
              "      <th>version</th>\n",
              "      <th></th>\n",
              "      <th></th>\n",
              "      <th></th>\n",
              "      <th></th>\n",
              "    </tr>\n",
              "  </thead>\n",
              "  <tbody>\n",
              "    <tr>\n",
              "      <th>gate_30</th>\n",
              "      <td>222944098441</td>\n",
              "      <td>2344795</td>\n",
              "      <td>20034</td>\n",
              "      <td>8502</td>\n",
              "    </tr>\n",
              "    <tr>\n",
              "      <th>gate_40</th>\n",
              "      <td>227857702576</td>\n",
              "      <td>2333530</td>\n",
              "      <td>20119</td>\n",
              "      <td>8279</td>\n",
              "    </tr>\n",
              "  </tbody>\n",
              "</table>\n",
              "</div>"
            ],
            "text/plain": [
              "               userid  sum_gamerounds  retention_1  retention_7\n",
              "version                                                        \n",
              "gate_30  222944098441         2344795        20034         8502\n",
              "gate_40  227857702576         2333530        20119         8279"
            ]
          },
          "execution_count": 98,
          "metadata": {},
          "output_type": "execute_result"
        }
      ],
      "source": [
        "data.groupby('version').sum()"
      ]
    },
    {
      "cell_type": "code",
      "execution_count": null,
      "metadata": {
        "ExecuteTime": {
          "end_time": "2022-03-01T11:32:16.265528Z",
          "start_time": "2022-03-01T11:32:16.203529Z"
        },
        "id": "rtF2xT9TGviM",
        "outputId": "739695a7-7825-40db-ea59-4f56047295a3"
      },
      "outputs": [
        {
          "data": {
            "text/html": [
              "<div>\n",
              "<style scoped>\n",
              "    .dataframe tbody tr th:only-of-type {\n",
              "        vertical-align: middle;\n",
              "    }\n",
              "\n",
              "    .dataframe tbody tr th {\n",
              "        vertical-align: top;\n",
              "    }\n",
              "\n",
              "    .dataframe thead th {\n",
              "        text-align: right;\n",
              "    }\n",
              "</style>\n",
              "<table border=\"1\" class=\"dataframe\">\n",
              "  <thead>\n",
              "    <tr style=\"text-align: right;\">\n",
              "      <th></th>\n",
              "      <th>userid</th>\n",
              "      <th>sum_gamerounds</th>\n",
              "      <th>retention_1</th>\n",
              "      <th>retention_7</th>\n",
              "    </tr>\n",
              "    <tr>\n",
              "      <th>version</th>\n",
              "      <th></th>\n",
              "      <th></th>\n",
              "      <th></th>\n",
              "      <th></th>\n",
              "    </tr>\n",
              "  </thead>\n",
              "  <tbody>\n",
              "    <tr>\n",
              "      <th>gate_30</th>\n",
              "      <td>4.987564e+06</td>\n",
              "      <td>52.456264</td>\n",
              "      <td>0.448188</td>\n",
              "      <td>0.190201</td>\n",
              "    </tr>\n",
              "    <tr>\n",
              "      <th>gate_40</th>\n",
              "      <td>5.009073e+06</td>\n",
              "      <td>51.298776</td>\n",
              "      <td>0.442283</td>\n",
              "      <td>0.182000</td>\n",
              "    </tr>\n",
              "  </tbody>\n",
              "</table>\n",
              "</div>"
            ],
            "text/plain": [
              "               userid  sum_gamerounds  retention_1  retention_7\n",
              "version                                                        \n",
              "gate_30  4.987564e+06       52.456264     0.448188     0.190201\n",
              "gate_40  5.009073e+06       51.298776     0.442283     0.182000"
            ]
          },
          "execution_count": 99,
          "metadata": {},
          "output_type": "execute_result"
        }
      ],
      "source": [
        "data.groupby('version').mean()"
      ]
    },
    {
      "cell_type": "code",
      "execution_count": null,
      "metadata": {
        "ExecuteTime": {
          "end_time": "2022-03-01T11:32:17.067526Z",
          "start_time": "2022-03-01T11:32:16.283526Z"
        },
        "id": "40-m1dZrGviM",
        "outputId": "609949fb-236d-4582-806f-1ffb2d317409"
      },
      "outputs": [
        {
          "data": {
            "image/png": "[encoded data removed]",
            "text/plain": [
              "<Figure size 1080x720 with 1 Axes>"
            ]
          },
          "metadata": {
            "needs_background": "light"
          },
          "output_type": "display_data"
        }
      ],
      "source": [
        "v_30 = data.loc[data.version == 'gate_30']\n",
        "v_40 = data.loc[data.version == 'gate_40']\n",
        "v_30 = v_30.drop(v_30.loc[v_30.sum_gamerounds > 200].index)\n",
        "v_40 = v_40.drop(v_40.loc[v_40.sum_gamerounds > 200].index)\n",
        "\n",
        "\n",
        "bins = 200\n",
        "plt.figure(figsize=(15, 10))\n",
        "plt.hist(v_30['sum_gamerounds'], bins=bins, alpha=1,\n",
        "         edgecolor='black', label='gate 30')\n",
        "plt.hist(v_40['sum_gamerounds'], bins=bins, alpha=0.7, label='gate 40')\n",
        "plt.legend(loc='upper right', bbox_to_anchor=(0.45, 0.35))\n",
        "plt.show()"
      ]
    },
    {
      "cell_type": "code",
      "execution_count": null,
      "metadata": {
        "ExecuteTime": {
          "end_time": "2022-03-01T11:32:17.665527Z",
          "start_time": "2022-03-01T11:32:17.085537Z"
        },
        "id": "WQneooy9GviM",
        "outputId": "21677773-3d24-4f62-964e-6ff86fc0990d"
      },
      "outputs": [
        {
          "data": {
            "image/png": "[encoded data removed]",
            "text/plain": [
              "<Figure size 748.875x360 with 2 Axes>"
            ]
          },
          "metadata": {
            "needs_background": "light"
          },
          "output_type": "display_data"
        }
      ],
      "source": [
        "df = data.loc[data['sum_gamerounds'] < 100].copy();\n",
        "\n",
        "\n",
        "sns.catplot(x=\"version\", y=\"sum_gamerounds\",\n",
        "            hue=\"retention_1\", col = 'retention_7',\n",
        "            data=df, kind=\"box\",\n",
        "            height=5, aspect=.95);\n"
      ]
    },
    {
      "cell_type": "code",
      "execution_count": null,
      "metadata": {
        "ExecuteTime": {
          "end_time": "2022-03-01T11:32:17.726536Z",
          "start_time": "2022-03-01T11:32:17.668527Z"
        },
        "id": "qAe-YGo7GviM",
        "outputId": "368dc2db-9a89-43ea-f60d-892f4b987e1f"
      },
      "outputs": [
        {
          "name": "stdout",
          "output_type": "stream",
          "text": [
            "Statistics=1024331250.500, p=0.050\n"
          ]
        }
      ],
      "source": [
        "from scipy.stats import f_oneway\n",
        "#from scipy.stats import wilcoxon\n",
        "from scipy.stats import mannwhitneyu\n",
        "import scipy.stats as stats\n",
        "\n",
        "# Тк распределение Ненормальное - применить Т-Тест Не можем. Применим метод Манна_Уитни\n",
        "\n",
        "stat, p = mannwhitneyu(data[data['version'] == 'gate_30']['sum_gamerounds'], \n",
        "                       data[data['version'] == 'gate_40']['sum_gamerounds'])\n",
        "print('Statistics=%.3f, p=%.3f' % (stat, p))"
      ]
    },
    {
      "cell_type": "code",
      "execution_count": null,
      "metadata": {
        "id": "Wc7uHwcTGviM"
      },
      "outputs": [],
      "source": [
        "# p-value=0,05, \n"
      ]
    },
    {
      "cell_type": "markdown",
      "metadata": {
        "id": "rE0lmzgqGviM"
      },
      "source": [
        "# Bootstrap"
      ]
    },
    {
      "cell_type": "code",
      "execution_count": null,
      "metadata": {
        "id": "PCVmHGlxGviN"
      },
      "outputs": [],
      "source": [
        " # Применяем Bootstrap для того, чтобы более наглядно убедиться в наличии различий"
      ]
    },
    {
      "cell_type": "code",
      "execution_count": null,
      "metadata": {
        "id": "SNUYgy3BGviN"
      },
      "outputs": [],
      "source": [
        " boot_1d = []"
      ]
    },
    {
      "cell_type": "code",
      "execution_count": null,
      "metadata": {
        "id": "SClQI22kGviN"
      },
      "outputs": [],
      "source": [
        "boot_mean = data.sample(frac=1, replace=True).groupby(\n",
        "        'version')['retention_7'].mean() "
      ]
    },
    {
      "cell_type": "code",
      "execution_count": null,
      "metadata": {
        "id": "4gwtF6F0GviN"
      },
      "outputs": [],
      "source": [
        "boot_1d.append(boot_mean)"
      ]
    },
    {
      "cell_type": "code",
      "execution_count": null,
      "metadata": {
        "id": "uwX5bfOWGviN",
        "outputId": "a5e2bdd6-61da-49cb-a241-0c5471c51132"
      },
      "outputs": [
        {
          "data": {
            "text/plain": [
              "[version\n",
              " gate_30    0.187578\n",
              " gate_40    0.178627\n",
              " Name: retention_7, dtype: float64,\n",
              " version\n",
              " gate_30    0.193094\n",
              " gate_40    0.184079\n",
              " Name: retention_7, dtype: float64]"
            ]
          },
          "execution_count": 36,
          "metadata": {},
          "output_type": "execute_result"
        }
      ],
      "source": [
        "boot_1d"
      ]
    },
    {
      "cell_type": "code",
      "execution_count": null,
      "metadata": {
        "ExecuteTime": {
          "end_time": "2022-03-01T11:32:32.977525Z",
          "start_time": "2022-03-01T11:32:17.746530Z"
        },
        "id": "FT7APnctGviN",
        "outputId": "79efb769-2106-475d-df80-f42e0d0d64bf"
      },
      "outputs": [
        {
          "data": {
            "text/plain": [
              "<AxesSubplot:ylabel='Density'>"
            ]
          },
          "execution_count": 26,
          "metadata": {},
          "output_type": "execute_result"
        },
        {
          "data": {
            "text/plain": [
              "<Figure size 1080x720 with 0 Axes>"
            ]
          },
          "metadata": {},
          "output_type": "display_data"
        },
        {
          "data": {
            "image/png": "[encoded data removed]",
            "text/plain": [
              "<Figure size 432x288 with 1 Axes>"
            ]
          },
          "metadata": {
            "needs_background": "light"
          },
          "output_type": "display_data"
        }
      ],
      "source": [
        "# Применяем Bootstrap для того, чтобы более наглядно убедиться в наличии различий\n",
        "\n",
        "# Creating an list with bootstrapped means for each AB-group\n",
        "plt.figure(figsize=(15, 10))\n",
        "# boot_1d - собираем статистику по средним, для неё можно применить t-тест\n",
        "boot_1d = []\n",
        "for i in range(1000):\n",
        "    boot_mean = data.sample(frac=1, replace=True).groupby(\n",
        "        'version')['retention_7'].mean()  # retention_1\n",
        "    boot_1d.append(boot_mean)\n",
        "\n",
        "# Преобразование списка в DataFrame\n",
        "boot_1d = pd.DataFrame(boot_1d)\n",
        "\n",
        "# A Kernel Density Estimate plot of the bootstrap distributions\n",
        "boot_1d.plot(kind='density')"
      ]
    },
    {
      "cell_type": "code",
      "execution_count": null,
      "metadata": {
        "ExecuteTime": {
          "end_time": "2022-03-01T11:32:32.993531Z",
          "start_time": "2022-03-01T11:32:32.980544Z"
        },
        "id": "YuEXbxMmGviN"
      },
      "outputs": [],
      "source": [
        "# разница статистически значима"
      ]
    },
    {
      "cell_type": "markdown",
      "metadata": {
        "id": "i4DeZSxuGviN"
      },
      "source": [
        "# Покемоны и AB-тестирование \n",
        "\n",
        "\n",
        "# Описание задачи\n",
        "\n",
        "![banner](https://storage.googleapis.com/kaggle-datasets-images/635/1204/126be74882028aac7241553cef0e27a7/dataset-original.jpg)\n",
        "\n",
        "Покемоны - это маленькие существа, которые сражаются друг с другом на соревнованиях. Все покемоны имеют разные характеристики (сила атаки, защиты и т. д.) И относятся к одному или двум так называемым классам (вода, огонь и т. д.).\n",
        "Профессор Оук является изобретателем Pokedex, портативного устройства, которое хранит информацию обо всех существующих покемонах. Как его ведущий специалист по данным, Вы только что получили от него запрос с просьбой осуществить аналитику данных на всех устройствах Pokedex. \n",
        "\n",
        "## Описание набора данных\n",
        "Профессор Оук скопировал все содержимое память одного устройства Pokedex, в результате чего получился набор данных, с которым Вы будете работать в этой задаче. В этом файле каждая строка представляет характеристики одного покемона:\n",
        "\n",
        "* `pid`: Numeric - ID покемона\n",
        "* `HP`: Numeric - Очки здоровья\n",
        "* `Attack`: Numeric - Сила обычной атаки\n",
        "* `Defense`: Numeric - Сила обычной защиты\n",
        "* `Sp. Atk`: Numeric - Сила специальной атаки\n",
        "* `Sp. Def`: Numeric - Сила специальной защиты\n",
        "* `Speed`: Numeric - Скорость движений\n",
        "* `Legendary`: Boolean - «True», если покемон редкий\n",
        "* `Class 1`: Categorical - Класс покемона\n",
        "* `Class 2`: Categorical - Класс покемона"
      ]
    },
    {
      "cell_type": "code",
      "execution_count": null,
      "metadata": {
        "ExecuteTime": {
          "end_time": "2022-03-01T11:32:33.039545Z",
          "start_time": "2022-03-01T11:32:33.004532Z"
        },
        "id": "vTAAD6WJGviO",
        "outputId": "5c6807a2-f083-414f-887c-092654143ccb"
      },
      "outputs": [
        {
          "name": "stderr",
          "output_type": "stream",
          "text": [
            "C:\\Users\\Администратор\\AppData\\Local\\Temp\\ipykernel_19544\\354238790.py:1: FutureWarning: The error_bad_lines argument has been deprecated and will be removed in a future version. Use on_bad_lines in the future.\n",
            "\n",
            "\n",
            "  pokemon = pd.read_csv('pokemon.csv', error_bad_lines=False)  # Откроем датасет\n"
          ]
        },
        {
          "data": {
            "text/html": [
              "<div>\n",
              "<style scoped>\n",
              "    .dataframe tbody tr th:only-of-type {\n",
              "        vertical-align: middle;\n",
              "    }\n",
              "\n",
              "    .dataframe tbody tr th {\n",
              "        vertical-align: top;\n",
              "    }\n",
              "\n",
              "    .dataframe thead th {\n",
              "        text-align: right;\n",
              "    }\n",
              "</style>\n",
              "<table border=\"1\" class=\"dataframe\">\n",
              "  <thead>\n",
              "    <tr style=\"text-align: right;\">\n",
              "      <th></th>\n",
              "      <th>pid</th>\n",
              "      <th>Name</th>\n",
              "      <th>Class 1</th>\n",
              "      <th>Class 2</th>\n",
              "      <th>HP</th>\n",
              "      <th>Attack</th>\n",
              "      <th>Defense</th>\n",
              "      <th>Sp. Atk</th>\n",
              "      <th>Sp. Def</th>\n",
              "      <th>Speed</th>\n",
              "      <th>Legendary</th>\n",
              "    </tr>\n",
              "  </thead>\n",
              "  <tbody>\n",
              "    <tr>\n",
              "      <th>0</th>\n",
              "      <td>1</td>\n",
              "      <td>Bulbasaur</td>\n",
              "      <td>Grass</td>\n",
              "      <td>Poison</td>\n",
              "      <td>45</td>\n",
              "      <td>49</td>\n",
              "      <td>49</td>\n",
              "      <td>65</td>\n",
              "      <td>65</td>\n",
              "      <td>45</td>\n",
              "      <td>False</td>\n",
              "    </tr>\n",
              "    <tr>\n",
              "      <th>1</th>\n",
              "      <td>2</td>\n",
              "      <td>Ivysaur</td>\n",
              "      <td>Grass</td>\n",
              "      <td>Poison</td>\n",
              "      <td>60</td>\n",
              "      <td>62</td>\n",
              "      <td>63</td>\n",
              "      <td>80</td>\n",
              "      <td>80</td>\n",
              "      <td>60</td>\n",
              "      <td>False</td>\n",
              "    </tr>\n",
              "    <tr>\n",
              "      <th>2</th>\n",
              "      <td>3</td>\n",
              "      <td>Venusaur</td>\n",
              "      <td>Grass</td>\n",
              "      <td>Poison</td>\n",
              "      <td>80</td>\n",
              "      <td>82</td>\n",
              "      <td>83</td>\n",
              "      <td>100</td>\n",
              "      <td>100</td>\n",
              "      <td>80</td>\n",
              "      <td>False</td>\n",
              "    </tr>\n",
              "    <tr>\n",
              "      <th>3</th>\n",
              "      <td>4</td>\n",
              "      <td>Mega Venusaur</td>\n",
              "      <td>Grass</td>\n",
              "      <td>Poison</td>\n",
              "      <td>80</td>\n",
              "      <td>100</td>\n",
              "      <td>123</td>\n",
              "      <td>122</td>\n",
              "      <td>120</td>\n",
              "      <td>80</td>\n",
              "      <td>False</td>\n",
              "    </tr>\n",
              "    <tr>\n",
              "      <th>4</th>\n",
              "      <td>5</td>\n",
              "      <td>Charmander</td>\n",
              "      <td>Fire</td>\n",
              "      <td>NaN</td>\n",
              "      <td>39</td>\n",
              "      <td>52</td>\n",
              "      <td>43</td>\n",
              "      <td>60</td>\n",
              "      <td>50</td>\n",
              "      <td>65</td>\n",
              "      <td>False</td>\n",
              "    </tr>\n",
              "  </tbody>\n",
              "</table>\n",
              "</div>"
            ],
            "text/plain": [
              "   pid           Name Class 1 Class 2  HP  Attack  Defense  Sp. Atk  Sp. Def  \\\n",
              "0    1      Bulbasaur   Grass  Poison  45      49       49       65       65   \n",
              "1    2        Ivysaur   Grass  Poison  60      62       63       80       80   \n",
              "2    3       Venusaur   Grass  Poison  80      82       83      100      100   \n",
              "3    4  Mega Venusaur   Grass  Poison  80     100      123      122      120   \n",
              "4    5     Charmander    Fire     NaN  39      52       43       60       50   \n",
              "\n",
              "   Speed  Legendary  \n",
              "0     45      False  \n",
              "1     60      False  \n",
              "2     80      False  \n",
              "3     80      False  \n",
              "4     65      False  "
            ]
          },
          "execution_count": 62,
          "metadata": {},
          "output_type": "execute_result"
        }
      ],
      "source": [
        "pokemon = pd.read_csv('pokemon.csv', error_bad_lines=False)  # Откроем датасет\n",
        "pokemon.head()\n",
        "\n",
        "\n",
        "# Обратите внимание, что у покемона может быть один или два класса.\n",
        "# Если у покемона два класса, считается, что они имеют одинаковую значимость."
      ]
    },
    {
      "cell_type": "code",
      "execution_count": null,
      "metadata": {
        "id": "k-YDxPPBGviO",
        "outputId": "8020b745-3b16-411d-a6fa-7aeab276c368"
      },
      "outputs": [
        {
          "data": {
            "text/plain": [
              "array(['Grass', 'Fire', 'Water', 'Bug', 'Normal', 'Poison', 'Electric',\n",
              "       'Ground', 'Fairy', 'Fighting', 'Psychic', 'Rock', 'Ghost', 'Ice',\n",
              "       'Dragon', 'Dark', 'Steel', 'Flying'], dtype=object)"
            ]
          },
          "execution_count": 109,
          "metadata": {},
          "output_type": "execute_result"
        }
      ],
      "source": [
        "pokemon['Class 1'].unique()"
      ]
    },
    {
      "cell_type": "code",
      "execution_count": null,
      "metadata": {
        "id": "x8HTOgeWGviO",
        "outputId": "601a8a65-703e-4913-d36e-c5314d33ea4d"
      },
      "outputs": [
        {
          "data": {
            "text/plain": [
              "array(['Poison', nan, 'Flying', 'Dragon', 'Ground', 'Fairy', 'Grass',\n",
              "       'Fighting', 'Psychic', 'Steel', 'Ice', 'Rock', 'Dark', 'Water',\n",
              "       'Electric', 'Fire', 'Ghost', 'Bug', 'Normal'], dtype=object)"
            ]
          },
          "execution_count": 110,
          "metadata": {},
          "output_type": "execute_result"
        }
      ],
      "source": [
        "pokemon['Class 2'].unique()"
      ]
    },
    {
      "cell_type": "markdown",
      "metadata": {
        "id": "NdKN0FsQGviO"
      },
      "source": [
        "<div class=\"alert alert-info\">\n",
        "<b>Задание № 1:</b>\n",
        "    \n",
        "Профессор Оук подозревает, что покемоны в классе `grass` имеют более сильную обычную атаку, чем у покемонов в классе `rock`. Проверьте, прав ли он, и убедите его в своем выводе статистически.\n",
        "    \n",
        "    \n",
        "Примечание: если есть покемоны, которые относятся к обоим классам, просто выбросьте их;\n",
        "    \n",
        "Вы можете предположить, что распределение обычных атак является нормальным для всех классов покемонов.\n",
        "\n",
        "</div>\n"
      ]
    },
    {
      "cell_type": "code",
      "execution_count": null,
      "metadata": {
        "id": "wxPmweSTGviO",
        "outputId": "59d693d8-8dea-486d-a73a-9a0fd1a10e3c"
      },
      "outputs": [
        {
          "data": {
            "text/html": [
              "<div>\n",
              "<style scoped>\n",
              "    .dataframe tbody tr th:only-of-type {\n",
              "        vertical-align: middle;\n",
              "    }\n",
              "\n",
              "    .dataframe tbody tr th {\n",
              "        vertical-align: top;\n",
              "    }\n",
              "\n",
              "    .dataframe thead th {\n",
              "        text-align: right;\n",
              "    }\n",
              "</style>\n",
              "<table border=\"1\" class=\"dataframe\">\n",
              "  <thead>\n",
              "    <tr style=\"text-align: right;\">\n",
              "      <th></th>\n",
              "      <th>pid</th>\n",
              "      <th>Name</th>\n",
              "      <th>Class 1</th>\n",
              "      <th>Class 2</th>\n",
              "      <th>HP</th>\n",
              "      <th>Attack</th>\n",
              "      <th>Defense</th>\n",
              "      <th>Sp. Atk</th>\n",
              "      <th>Sp. Def</th>\n",
              "      <th>Speed</th>\n",
              "      <th>Legendary</th>\n",
              "    </tr>\n",
              "  </thead>\n",
              "  <tbody>\n",
              "    <tr>\n",
              "      <th>0</th>\n",
              "      <td>1</td>\n",
              "      <td>Bulbasaur</td>\n",
              "      <td>Grass</td>\n",
              "      <td>Poison</td>\n",
              "      <td>45</td>\n",
              "      <td>49</td>\n",
              "      <td>49</td>\n",
              "      <td>65</td>\n",
              "      <td>65</td>\n",
              "      <td>45</td>\n",
              "      <td>False</td>\n",
              "    </tr>\n",
              "    <tr>\n",
              "      <th>1</th>\n",
              "      <td>2</td>\n",
              "      <td>Ivysaur</td>\n",
              "      <td>Grass</td>\n",
              "      <td>Poison</td>\n",
              "      <td>60</td>\n",
              "      <td>62</td>\n",
              "      <td>63</td>\n",
              "      <td>80</td>\n",
              "      <td>80</td>\n",
              "      <td>60</td>\n",
              "      <td>False</td>\n",
              "    </tr>\n",
              "    <tr>\n",
              "      <th>2</th>\n",
              "      <td>3</td>\n",
              "      <td>Venusaur</td>\n",
              "      <td>Grass</td>\n",
              "      <td>Poison</td>\n",
              "      <td>80</td>\n",
              "      <td>82</td>\n",
              "      <td>83</td>\n",
              "      <td>100</td>\n",
              "      <td>100</td>\n",
              "      <td>80</td>\n",
              "      <td>False</td>\n",
              "    </tr>\n",
              "    <tr>\n",
              "      <th>3</th>\n",
              "      <td>4</td>\n",
              "      <td>Mega Venusaur</td>\n",
              "      <td>Grass</td>\n",
              "      <td>Poison</td>\n",
              "      <td>80</td>\n",
              "      <td>100</td>\n",
              "      <td>123</td>\n",
              "      <td>122</td>\n",
              "      <td>120</td>\n",
              "      <td>80</td>\n",
              "      <td>False</td>\n",
              "    </tr>\n",
              "    <tr>\n",
              "      <th>48</th>\n",
              "      <td>49</td>\n",
              "      <td>Oddish</td>\n",
              "      <td>Grass</td>\n",
              "      <td>Poison</td>\n",
              "      <td>45</td>\n",
              "      <td>50</td>\n",
              "      <td>55</td>\n",
              "      <td>75</td>\n",
              "      <td>65</td>\n",
              "      <td>30</td>\n",
              "      <td>False</td>\n",
              "    </tr>\n",
              "  </tbody>\n",
              "</table>\n",
              "</div>"
            ],
            "text/plain": [
              "    pid           Name Class 1 Class 2  HP  Attack  Defense  Sp. Atk  Sp. Def  \\\n",
              "0     1      Bulbasaur   Grass  Poison  45      49       49       65       65   \n",
              "1     2        Ivysaur   Grass  Poison  60      62       63       80       80   \n",
              "2     3       Venusaur   Grass  Poison  80      82       83      100      100   \n",
              "3     4  Mega Venusaur   Grass  Poison  80     100      123      122      120   \n",
              "48   49         Oddish   Grass  Poison  45      50       55       75       65   \n",
              "\n",
              "    Speed  Legendary  \n",
              "0      45      False  \n",
              "1      60      False  \n",
              "2      80      False  \n",
              "3      80      False  \n",
              "48     30      False  "
            ]
          },
          "execution_count": 111,
          "metadata": {},
          "output_type": "execute_result"
        }
      ],
      "source": [
        "#оставляем только тех покемонов, которые соответствуют условию и записываем в pokemon1\n",
        "\n",
        "pokemon1=pokemon[(pokemon['Class 1'].isin(['Grass']) & (~pokemon['Class 2'].isin(['Rock']))) | \n",
        "        (pokemon['Class 1'].isin(['Rock']) & (~pokemon['Class 2'].isin(['Grass'])))\n",
        "               |(pokemon['Class 2'].isin(['Grass']) & (~pokemon['Class 1'].isin(['Rock']))) |\n",
        "                (pokemon['Class 2'].isin(['Rock']) & (~pokemon['Class 1'].isin(['Grass']))) \n",
        "               ]\n",
        "pokemon1.head()"
      ]
    },
    {
      "cell_type": "code",
      "execution_count": null,
      "metadata": {
        "id": "3QfXHC85GviO"
      },
      "outputs": [],
      "source": [
        "#выборка параметра Attack для класса 'Grass'\n",
        "A = pokemon1[pokemon1['Class 1'].isin(['Grass'])|pokemon1['Class 2'].isin(['Grass'])]['Attack']"
      ]
    },
    {
      "cell_type": "code",
      "execution_count": null,
      "metadata": {
        "id": "1Dd1aqX-GviP"
      },
      "outputs": [],
      "source": [
        "#выборка параметра Attack для класса 'Rock'\n",
        "B = pokemon1[pokemon1['Class 1'].isin(['Rock'])|pokemon1['Class 2'].isin(['Rock'])]['Attack']"
      ]
    },
    {
      "cell_type": "code",
      "execution_count": null,
      "metadata": {
        "id": "YyPHgvRtGviP",
        "outputId": "398fe1ca-5314-471b-ad37-de97b8e4c002"
      },
      "outputs": [
        {
          "data": {
            "image/png": "[encoded data removed]",
            "text/plain": [
              "<Figure size 432x288 with 1 Axes>"
            ]
          },
          "metadata": {
            "needs_background": "light"
          },
          "output_type": "display_data"
        }
      ],
      "source": [
        "Распределение близко к нормальному, значит можем применить критерий Стьюдента\n",
        "plt.hist(A, bins=8);\n",
        "plt.hist(B, bins=8);"
      ]
    },
    {
      "cell_type": "code",
      "execution_count": null,
      "metadata": {
        "id": "F2k9qmvWGviP",
        "outputId": "24a31e40-81c3-490c-e06c-789d487b0b0d"
      },
      "outputs": [
        {
          "data": {
            "text/plain": [
              "(-3.729457582692065, 0.00027333381459902653)"
            ]
          },
          "execution_count": 69,
          "metadata": {},
          "output_type": "execute_result"
        }
      ],
      "source": [
        "t, p_value = stats.ttest_ind(A, B) #Критерий Стьюдента (t-test)\n",
        "t, p_value"
      ]
    },
    {
      "cell_type": "markdown",
      "metadata": {
        "id": "Lty5yrt0GviP"
      },
      "source": [
        "Мы получаем хорошее значение p-value, равное 0,0002, и, таким образом, мы отклоняем нулевую гипотезу, то есть - средние значения двух распределений различны и это различие статистически значимо"
      ]
    },
    {
      "cell_type": "code",
      "execution_count": null,
      "metadata": {
        "id": "dRZwlQ-UGviP",
        "outputId": "7f4a37fb-51cf-4307-f258-51cdf592db0f"
      },
      "outputs": [
        {
          "data": {
            "text/plain": [
              "(13.908853861099336, 0.00027333381459902556)"
            ]
          },
          "execution_count": 113,
          "metadata": {},
          "output_type": "execute_result"
        }
      ],
      "source": [
        "\n",
        "# также можем применить дисперсионный анализ для двух групп\n",
        "f, p = f_oneway(A, B)\n",
        "f, p\n",
        "#  результат аналогичен"
      ]
    },
    {
      "cell_type": "markdown",
      "metadata": {
        "id": "yzYSFthvGviP"
      },
      "source": [
        "<div class=\"alert alert-info\">\n",
        "<b>Задание № 2:</b>\n",
        "    \n",
        "Профессор Оук уже долго не может спать по ночам ведь его волнует вопрос, а правда,  что покемоны в классе `Water` в среднем более быстрые, чем покемоны в классе `Normal`. \n",
        "    \n",
        "    \n",
        "Проверьте, прав ли он, и убедите его в своем выводе статистически.\n",
        "    \n",
        "Примечание: если есть покемоны относятся к обоим классам, выбросьте их;\n",
        "    \n",
        "Вы можете предположить, что распределение скорости движения является нормальным для всех классов покемонов.\n",
        "\n",
        "</div>"
      ]
    },
    {
      "cell_type": "code",
      "execution_count": null,
      "metadata": {
        "id": "ABWMD2zyGviP",
        "outputId": "c946aab2-84e2-4164-fc90-f6ebcbcb0313"
      },
      "outputs": [
        {
          "data": {
            "text/html": [
              "<div>\n",
              "<style scoped>\n",
              "    .dataframe tbody tr th:only-of-type {\n",
              "        vertical-align: middle;\n",
              "    }\n",
              "\n",
              "    .dataframe tbody tr th {\n",
              "        vertical-align: top;\n",
              "    }\n",
              "\n",
              "    .dataframe thead th {\n",
              "        text-align: right;\n",
              "    }\n",
              "</style>\n",
              "<table border=\"1\" class=\"dataframe\">\n",
              "  <thead>\n",
              "    <tr style=\"text-align: right;\">\n",
              "      <th></th>\n",
              "      <th>pid</th>\n",
              "      <th>Name</th>\n",
              "      <th>Class 1</th>\n",
              "      <th>Class 2</th>\n",
              "      <th>HP</th>\n",
              "      <th>Attack</th>\n",
              "      <th>Defense</th>\n",
              "      <th>Sp. Atk</th>\n",
              "      <th>Sp. Def</th>\n",
              "      <th>Speed</th>\n",
              "      <th>Legendary</th>\n",
              "    </tr>\n",
              "  </thead>\n",
              "  <tbody>\n",
              "    <tr>\n",
              "      <th>9</th>\n",
              "      <td>10</td>\n",
              "      <td>Squirtle</td>\n",
              "      <td>Water</td>\n",
              "      <td>NaN</td>\n",
              "      <td>44</td>\n",
              "      <td>48</td>\n",
              "      <td>65</td>\n",
              "      <td>50</td>\n",
              "      <td>64</td>\n",
              "      <td>43</td>\n",
              "      <td>False</td>\n",
              "    </tr>\n",
              "    <tr>\n",
              "      <th>10</th>\n",
              "      <td>11</td>\n",
              "      <td>Wartortle</td>\n",
              "      <td>Water</td>\n",
              "      <td>NaN</td>\n",
              "      <td>59</td>\n",
              "      <td>63</td>\n",
              "      <td>80</td>\n",
              "      <td>65</td>\n",
              "      <td>80</td>\n",
              "      <td>58</td>\n",
              "      <td>False</td>\n",
              "    </tr>\n",
              "    <tr>\n",
              "      <th>11</th>\n",
              "      <td>12</td>\n",
              "      <td>Blastoise</td>\n",
              "      <td>Water</td>\n",
              "      <td>NaN</td>\n",
              "      <td>79</td>\n",
              "      <td>83</td>\n",
              "      <td>100</td>\n",
              "      <td>85</td>\n",
              "      <td>105</td>\n",
              "      <td>78</td>\n",
              "      <td>False</td>\n",
              "    </tr>\n",
              "    <tr>\n",
              "      <th>12</th>\n",
              "      <td>13</td>\n",
              "      <td>Mega Blastoise</td>\n",
              "      <td>Water</td>\n",
              "      <td>NaN</td>\n",
              "      <td>79</td>\n",
              "      <td>103</td>\n",
              "      <td>120</td>\n",
              "      <td>135</td>\n",
              "      <td>115</td>\n",
              "      <td>78</td>\n",
              "      <td>False</td>\n",
              "    </tr>\n",
              "    <tr>\n",
              "      <th>20</th>\n",
              "      <td>21</td>\n",
              "      <td>Pidgey</td>\n",
              "      <td>Normal</td>\n",
              "      <td>Flying</td>\n",
              "      <td>40</td>\n",
              "      <td>45</td>\n",
              "      <td>40</td>\n",
              "      <td>35</td>\n",
              "      <td>35</td>\n",
              "      <td>56</td>\n",
              "      <td>False</td>\n",
              "    </tr>\n",
              "  </tbody>\n",
              "</table>\n",
              "</div>"
            ],
            "text/plain": [
              "    pid            Name Class 1 Class 2  HP  Attack  Defense  Sp. Atk  \\\n",
              "9    10        Squirtle   Water     NaN  44      48       65       50   \n",
              "10   11       Wartortle   Water     NaN  59      63       80       65   \n",
              "11   12       Blastoise   Water     NaN  79      83      100       85   \n",
              "12   13  Mega Blastoise   Water     NaN  79     103      120      135   \n",
              "20   21          Pidgey  Normal  Flying  40      45       40       35   \n",
              "\n",
              "    Sp. Def  Speed  Legendary  \n",
              "9        64     43      False  \n",
              "10       80     58      False  \n",
              "11      105     78      False  \n",
              "12      115     78      False  \n",
              "20       35     56      False  "
            ]
          },
          "execution_count": 118,
          "metadata": {},
          "output_type": "execute_result"
        }
      ],
      "source": [
        "#оставляем только тех покемонов, которые соответствуют условию и записываем в pokemon1\n",
        "\n",
        "pokemon1=pokemon[(pokemon['Class 1'].isin(['Water']) & (~pokemon['Class 2'].isin(['Normal']))) | \n",
        "        (pokemon['Class 1'].isin(['Normal']) & (~pokemon['Class 2'].isin(['Water'])))\n",
        "               |(pokemon['Class 2'].isin(['Normal']) & (~pokemon['Class 1'].isin(['Water']))) |\n",
        "                (pokemon['Class 2'].isin(['Water']) & (~pokemon['Class 1'].isin(['Normal']))) \n",
        "               ]\n",
        "pokemon1.head()"
      ]
    },
    {
      "cell_type": "code",
      "execution_count": null,
      "metadata": {
        "id": "gLcUN8zIGviQ",
        "outputId": "a8d1ebf3-281d-40b7-9ae8-c1079d0c042b"
      },
      "outputs": [
        {
          "data": {
            "text/plain": [
              "293    30\n",
              "294    50\n",
              "295    70\n",
              "646    75\n",
              "647    95\n",
              "Name: Speed, dtype: int64"
            ]
          },
          "execution_count": 124,
          "metadata": {},
          "output_type": "execute_result"
        }
      ],
      "source": [
        "#выборка параметра Attack для класса 'Grass'\n",
        "A = pokemon1[pokemon1['Class 1'].isin(['Grass'])|pokemon1['Class 2'].isin(['Grass'])]['Speed']\n",
        "A"
      ]
    },
    {
      "cell_type": "code",
      "execution_count": null,
      "metadata": {
        "id": "ZlYqykZsGviQ",
        "outputId": "82f8ecb4-0720-4c77-a4d1-0e7db1f6a743"
      },
      "outputs": [
        {
          "data": {
            "text/plain": [
              "149    35\n",
              "150    55\n",
              "151    55\n",
              "152    80\n",
              "240    35\n",
              "404    55\n",
              "625    22\n",
              "626    32\n",
              "758    50\n",
              "759    68\n",
              "Name: Speed, dtype: int64"
            ]
          },
          "execution_count": 125,
          "metadata": {},
          "output_type": "execute_result"
        }
      ],
      "source": [
        "#выборка параметра Attack для класса 'Rock'\n",
        "B = pokemon1[pokemon1['Class 1'].isin(['Rock'])|pokemon1['Class 2'].isin(['Rock'])]['Speed']\n",
        "B"
      ]
    },
    {
      "cell_type": "code",
      "execution_count": null,
      "metadata": {
        "id": "pIx8mKDUGviQ",
        "outputId": "7aee14ff-ec91-4588-f398-28b648c2bbeb"
      },
      "outputs": [
        {
          "data": {
            "image/png": "[encoded data removed]",
            "text/plain": [
              "<Figure size 432x288 with 1 Axes>"
            ]
          },
          "metadata": {
            "needs_background": "light"
          },
          "output_type": "display_data"
        }
      ],
      "source": [
        "#В соответствии с условием, Распределение принимаем нормальным, значит можем применить критерий Стьюдента\n",
        "plt.hist(B,  bins=10);"
      ]
    },
    {
      "cell_type": "code",
      "execution_count": null,
      "metadata": {
        "id": "KHyoYp4BGviQ",
        "outputId": "9b25c777-2bea-4723-ea0a-d4123968600f"
      },
      "outputs": [
        {
          "data": {
            "image/png": "[encoded data removed]",
            "text/plain": [
              "<Figure size 432x288 with 1 Axes>"
            ]
          },
          "metadata": {
            "needs_background": "light"
          },
          "output_type": "display_data"
        }
      ],
      "source": [
        "plt.hist(A, bins=10);"
      ]
    },
    {
      "cell_type": "code",
      "execution_count": null,
      "metadata": {
        "id": "oTyyH3L7GviQ",
        "outputId": "d3b304f9-c55a-488f-eacc-f340bec33da2"
      },
      "outputs": [
        {
          "data": {
            "text/plain": [
              "(1.382137116018638, 0.19021710608407882)"
            ]
          },
          "execution_count": 130,
          "metadata": {},
          "output_type": "execute_result"
        }
      ],
      "source": [
        "t, p_value = stats.ttest_ind(A, B) #Критерий Стьюдента (t-test)\n",
        "t, p_value"
      ]
    },
    {
      "cell_type": "markdown",
      "metadata": {
        "id": "28x4V43FGviQ"
      },
      "source": [
        "Мы получаем значение p-value, равное 0,19, что больше уровня значимости 0,05.  Таким образом, мы НЕ отклоняем нулевую гипотезу, то есть - разница средних значений двух распределений статистически не значима"
      ]
    },
    {
      "cell_type": "markdown",
      "metadata": {
        "id": "HVKCiUdHGviR"
      },
      "source": [
        "<div class=\"alert alert-info\">\n",
        "<b>Задание № 4:</b>\n",
        "    \n",
        "Профессор Оук тот еще безумец. Он изобрел сыворотку, способную ускорить покемона. Однако, мы усомнились в эффективности его вакцины. Професоор дал эту сыворотку следующим покемонам: смотри массив `treathed_pokemon`. Проверьте, работает ли вообще его сыворотка, убедите всех в своем выводе статистически.\n",
        "    \n",
        "    \n",
        "Вы можете предположить, что распределение скорости движения является нормальным для всех классов покемонов.\n",
        "\n",
        "</div>"
      ]
    },
    {
      "cell_type": "code",
      "execution_count": null,
      "metadata": {
        "ExecuteTime": {
          "end_time": "2022-03-01T11:32:33.055532Z",
          "start_time": "2022-03-01T11:32:33.044535Z"
        },
        "id": "10Be2oaJGviR"
      },
      "outputs": [],
      "source": [
        "# Покемоны, которые принимали сыворотку увеличения скорости\n",
        "treathed_pokemon = ['Mega Beedrill', 'Mega Alakazam',\n",
        "                    'Deoxys Normal Forme', 'Mega Lopunny']"
      ]
    },
    {
      "cell_type": "code",
      "execution_count": null,
      "metadata": {
        "id": "ABMqjjaBGviR"
      },
      "outputs": [],
      "source": [
        "# A - привитые покемоны\n",
        "# B - непривитые покемоны\n",
        "A=pokemon[pokemon['Name'].isin(treathed_pokemon)]['Speed']\n",
        "B=pokemon[~pokemon['Name'].isin(treathed_pokemon)]['Speed']"
      ]
    },
    {
      "cell_type": "code",
      "execution_count": null,
      "metadata": {
        "id": "0tmsOjggGviR",
        "outputId": "064bf907-8364-41c6-e320-1ec2f42ce770"
      },
      "outputs": [
        {
          "data": {
            "image/png": "[encoded data removed]",
            "text/plain": [
              "<Figure size 432x288 with 1 Axes>"
            ]
          },
          "metadata": {
            "needs_background": "light"
          },
          "output_type": "display_data"
        }
      ],
      "source": [
        "plt.hist(A);"
      ]
    },
    {
      "cell_type": "code",
      "execution_count": null,
      "metadata": {
        "id": "WGTxBtnLGviR",
        "outputId": "cb0ed2fa-c001-4f61-c34f-d6f6f5ac2c3e"
      },
      "outputs": [
        {
          "data": {
            "image/png": "[encoded data removed]",
            "text/plain": [
              "<Figure size 432x288 with 1 Axes>"
            ]
          },
          "metadata": {
            "needs_background": "light"
          },
          "output_type": "display_data"
        }
      ],
      "source": [
        "plt.hist(B);"
      ]
    },
    {
      "cell_type": "code",
      "execution_count": null,
      "metadata": {
        "id": "fLyX5gqSGviR",
        "outputId": "71105862-76dc-4e5f-8add-ca4aa990a8cd"
      },
      "outputs": [
        {
          "data": {
            "text/plain": [
              "9.51510117630786e-08"
            ]
          },
          "execution_count": 156,
          "metadata": {},
          "output_type": "execute_result"
        }
      ],
      "source": [
        "# t-test  для нормального распределения (по условию задачи)\n",
        "t,p=stats.ttest_ind(A,B)\n",
        "p"
      ]
    },
    {
      "cell_type": "code",
      "execution_count": null,
      "metadata": {
        "id": "7mVrrn-tGviS",
        "outputId": "7fd111a1-2676-452f-ac8b-a9ed422dfd24"
      },
      "outputs": [
        {
          "data": {
            "text/plain": [
              "0.0006453636780809272"
            ]
          },
          "execution_count": 161,
          "metadata": {},
          "output_type": "execute_result"
        }
      ],
      "source": [
        "#перепроверка методом Манн-Уитни\n",
        "stats,p=stats.mannwhitneyu(A,B)\n",
        "p"
      ]
    },
    {
      "cell_type": "code",
      "execution_count": null,
      "metadata": {
        "id": "AJqGvdccGviS",
        "outputId": "3a3ffc6c-3c3b-4ad2-fa4c-184e28202cbf"
      },
      "outputs": [
        {
          "data": {
            "text/plain": [
              "145.0"
            ]
          },
          "execution_count": 157,
          "metadata": {},
          "output_type": "execute_result"
        }
      ],
      "source": [
        "A.mean() # среднее значение скорости для группы привитых"
      ]
    },
    {
      "cell_type": "code",
      "execution_count": null,
      "metadata": {
        "id": "8MOCt5ouGviS",
        "outputId": "e7c058ce-5e6a-492c-efaf-abd74f4c9e9c"
      },
      "outputs": [
        {
          "data": {
            "text/plain": [
              "67.89195979899498"
            ]
          },
          "execution_count": 158,
          "metadata": {},
          "output_type": "execute_result"
        }
      ],
      "source": [
        "B.mean() # среднее значение скорости для группы непривитых"
      ]
    },
    {
      "cell_type": "code",
      "execution_count": null,
      "metadata": {
        "id": "4-YgP-UuGviS"
      },
      "outputs": [],
      "source": [
        "# p-value менее 0,05, что значит что мы отклоняем нулевую гипотезу и подтверждаем, \n",
        "# что разница между привитой и непривитой группой является статистически значимой"
      ]
    },
    {
      "cell_type": "markdown",
      "metadata": {
        "id": "8MTXSNClGviS"
      },
      "source": [
        "<div class=\"alert alert-info\">\n",
        "<b>Задание № 5:</b>\n",
        "    \n",
        "Профессор Оук всегда любил истории про легендарных покемонов. Однако, профессор не очень уверен, что они самые лучшие относительно остальных покемонов. Оук предложил разобраться в этом нам. Проверьте, действительно ли сумма характеристик `HP`,`Attack`,`Defense` у легендарных покемонов выше, чем у других покемонов? А произведение этих же параметров?? Найдите ответы на эти вопросы и убедите всех в своем выводе статистически.\n",
        "   \n",
        "\n",
        "Вы можете предположить, что распределение сум и произведений этих параметров является нормальным для всех классов покемонов.\n",
        "\n",
        "</div>"
      ]
    },
    {
      "cell_type": "code",
      "execution_count": null,
      "metadata": {
        "id": "qM_G4eaSGviS",
        "outputId": "603cd075-2bc6-4c7c-bf8a-9c0cccd80879"
      },
      "outputs": [
        {
          "data": {
            "text/html": [
              "<div>\n",
              "<style scoped>\n",
              "    .dataframe tbody tr th:only-of-type {\n",
              "        vertical-align: middle;\n",
              "    }\n",
              "\n",
              "    .dataframe tbody tr th {\n",
              "        vertical-align: top;\n",
              "    }\n",
              "\n",
              "    .dataframe thead th {\n",
              "        text-align: right;\n",
              "    }\n",
              "</style>\n",
              "<table border=\"1\" class=\"dataframe\">\n",
              "  <thead>\n",
              "    <tr style=\"text-align: right;\">\n",
              "      <th></th>\n",
              "      <th>pid</th>\n",
              "      <th>Name</th>\n",
              "      <th>Class 1</th>\n",
              "      <th>Class 2</th>\n",
              "      <th>HP</th>\n",
              "      <th>Attack</th>\n",
              "      <th>Defense</th>\n",
              "      <th>Sp. Atk</th>\n",
              "      <th>Sp. Def</th>\n",
              "      <th>Speed</th>\n",
              "      <th>Legendary</th>\n",
              "    </tr>\n",
              "  </thead>\n",
              "  <tbody>\n",
              "    <tr>\n",
              "      <th>0</th>\n",
              "      <td>1</td>\n",
              "      <td>Bulbasaur</td>\n",
              "      <td>Grass</td>\n",
              "      <td>Poison</td>\n",
              "      <td>45</td>\n",
              "      <td>49</td>\n",
              "      <td>49</td>\n",
              "      <td>65</td>\n",
              "      <td>65</td>\n",
              "      <td>45</td>\n",
              "      <td>False</td>\n",
              "    </tr>\n",
              "    <tr>\n",
              "      <th>1</th>\n",
              "      <td>2</td>\n",
              "      <td>Ivysaur</td>\n",
              "      <td>Grass</td>\n",
              "      <td>Poison</td>\n",
              "      <td>60</td>\n",
              "      <td>62</td>\n",
              "      <td>63</td>\n",
              "      <td>80</td>\n",
              "      <td>80</td>\n",
              "      <td>60</td>\n",
              "      <td>False</td>\n",
              "    </tr>\n",
              "    <tr>\n",
              "      <th>2</th>\n",
              "      <td>3</td>\n",
              "      <td>Venusaur</td>\n",
              "      <td>Grass</td>\n",
              "      <td>Poison</td>\n",
              "      <td>80</td>\n",
              "      <td>82</td>\n",
              "      <td>83</td>\n",
              "      <td>100</td>\n",
              "      <td>100</td>\n",
              "      <td>80</td>\n",
              "      <td>False</td>\n",
              "    </tr>\n",
              "    <tr>\n",
              "      <th>3</th>\n",
              "      <td>4</td>\n",
              "      <td>Mega Venusaur</td>\n",
              "      <td>Grass</td>\n",
              "      <td>Poison</td>\n",
              "      <td>80</td>\n",
              "      <td>100</td>\n",
              "      <td>123</td>\n",
              "      <td>122</td>\n",
              "      <td>120</td>\n",
              "      <td>80</td>\n",
              "      <td>False</td>\n",
              "    </tr>\n",
              "    <tr>\n",
              "      <th>4</th>\n",
              "      <td>5</td>\n",
              "      <td>Charmander</td>\n",
              "      <td>Fire</td>\n",
              "      <td>NaN</td>\n",
              "      <td>39</td>\n",
              "      <td>52</td>\n",
              "      <td>43</td>\n",
              "      <td>60</td>\n",
              "      <td>50</td>\n",
              "      <td>65</td>\n",
              "      <td>False</td>\n",
              "    </tr>\n",
              "  </tbody>\n",
              "</table>\n",
              "</div>"
            ],
            "text/plain": [
              "   pid           Name Class 1 Class 2  HP  Attack  Defense  Sp. Atk  Sp. Def  \\\n",
              "0    1      Bulbasaur   Grass  Poison  45      49       49       65       65   \n",
              "1    2        Ivysaur   Grass  Poison  60      62       63       80       80   \n",
              "2    3       Venusaur   Grass  Poison  80      82       83      100      100   \n",
              "3    4  Mega Venusaur   Grass  Poison  80     100      123      122      120   \n",
              "4    5     Charmander    Fire     NaN  39      52       43       60       50   \n",
              "\n",
              "   Speed  Legendary  \n",
              "0     45      False  \n",
              "1     60      False  \n",
              "2     80      False  \n",
              "3     80      False  \n",
              "4     65      False  "
            ]
          },
          "execution_count": 162,
          "metadata": {},
          "output_type": "execute_result"
        }
      ],
      "source": [
        "pokemon.head()"
      ]
    },
    {
      "cell_type": "code",
      "execution_count": null,
      "metadata": {
        "id": "OB95zyTEGviT"
      },
      "outputs": [],
      "source": [
        "A = pokemon[pokemon['Legendary']==1]['HP_Attack_defense'] #легендарные\n",
        "B = pokemon[pokemon['Legendary']==0]['HP_Attack_defense'] #простые"
      ]
    },
    {
      "cell_type": "code",
      "execution_count": null,
      "metadata": {
        "id": "pxcFbw8NGviT",
        "outputId": "7ccaafae-70b2-4bfd-d016-b4c41904bbff"
      },
      "outputs": [
        {
          "data": {
            "image/png": "[encoded data removed]",
            "text/plain": [
              "<Figure size 432x288 with 1 Axes>"
            ]
          },
          "metadata": {
            "needs_background": "light"
          },
          "output_type": "display_data"
        }
      ],
      "source": [
        "plt.hist(B);\n",
        "plt.hist(A);"
      ]
    },
    {
      "cell_type": "code",
      "execution_count": null,
      "metadata": {
        "id": "TL2hYa94GviT",
        "outputId": "27a13448-b2a3-4289-e146-606a1050dd36"
      },
      "outputs": [
        {
          "data": {
            "text/plain": [
              "7.970942205722087e-29"
            ]
          },
          "execution_count": 190,
          "metadata": {},
          "output_type": "execute_result"
        }
      ],
      "source": [
        "from scipy import stats\n",
        "# t-test  для нормального распределения \n",
        "t, p=stats.ttest_ind(A, B)\n",
        "p"
      ]
    },
    {
      "cell_type": "code",
      "execution_count": null,
      "metadata": {
        "id": "Fu95rdtwGviT",
        "outputId": "6fd9ce4b-821d-45db-c603-3ac3fa34f91c"
      },
      "outputs": [
        {
          "data": {
            "text/plain": [
              "1.1270443168585851e-24"
            ]
          },
          "execution_count": 191,
          "metadata": {},
          "output_type": "execute_result"
        }
      ],
      "source": [
        "#перепроверка методом Манн-Уитни\n",
        "stats,p=stats.mannwhitneyu(A,B)\n",
        "p"
      ]
    },
    {
      "cell_type": "code",
      "execution_count": null,
      "metadata": {
        "id": "g25O9twxGviT",
        "outputId": "4f1e6128-d13c-46be-ad62-943ad52c8508"
      },
      "outputs": [
        {
          "data": {
            "text/plain": [
              "7.970942205720804e-29"
            ]
          },
          "execution_count": 197,
          "metadata": {},
          "output_type": "execute_result"
        }
      ],
      "source": [
        "#перепроверка методом дисперсионного анализа для двух групп\n",
        "from scipy.stats import f_oneway\n",
        "import scipy.stats as stats\n",
        "stats, p=stats.f_oneway(A,B)\n",
        "p"
      ]
    },
    {
      "cell_type": "code",
      "execution_count": null,
      "metadata": {
        "id": "M6Jt7LmwGviT",
        "outputId": "e1a8dc5c-a15a-466c-dc37-0272d2bf0e3f"
      },
      "outputs": [
        {
          "data": {
            "text/plain": [
              "309.0769230769231"
            ]
          },
          "execution_count": 186,
          "metadata": {},
          "output_type": "execute_result"
        }
      ],
      "source": [
        "A.mean() # среднее значение скорости для группы легендарных"
      ]
    },
    {
      "cell_type": "code",
      "execution_count": null,
      "metadata": {
        "id": "1mnl5wFQGviU",
        "outputId": "17ed5474-25a3-4179-e6f2-3c7b1a5450cd"
      },
      "outputs": [
        {
          "data": {
            "text/plain": [
              "214.4108843537415"
            ]
          },
          "execution_count": 187,
          "metadata": {},
          "output_type": "execute_result"
        }
      ],
      "source": [
        "B.mean() # среднее значение скорости для группы простых"
      ]
    },
    {
      "cell_type": "code",
      "execution_count": null,
      "metadata": {
        "id": "bCXoj8GjGviU"
      },
      "outputs": [],
      "source": [
        "# p-value менее 0,05 во всех случаях, что значит что мы отклоняем нулевую гипотезу и подтверждаем, \n",
        "# что разница между легендырными и простыми покемонами является статистически значимой"
      ]
    },
    {
      "cell_type": "markdown",
      "metadata": {
        "id": "X1wR1zUJGviU"
      },
      "source": [
        "<div class=\"alert alert-info\">\n",
        "<b>Задание № 6:</b>\n",
        "    \n",
        "Профессор Оук частенько наблюдает за боями покемонов. После очередных таких боев Оук выделил три класса `best_defence_class`, которые на его взгляд одинаковы по \"силе обычной защиты\" `Defense`. Проверьте, действительно ли эти классы покемонов не отличаются по уровню защиты статистически значимо? Все та же статистика вам в помощь! \n",
        "   \n",
        "\n",
        "Вы можете предположить, что распределение сум и произведений этих параметров является нормальным для всех классов покемонов.\n",
        "\n",
        "</div>"
      ]
    },
    {
      "cell_type": "code",
      "execution_count": null,
      "metadata": {
        "ExecuteTime": {
          "end_time": "2022-03-01T11:32:33.070533Z",
          "start_time": "2022-03-01T11:32:33.060532Z"
        },
        "id": "e9BuF3fQGviU",
        "outputId": "d6317af4-0c2c-40e0-a0c3-ea895c8da2a8"
      },
      "outputs": [
        {
          "data": {
            "text/plain": [
              "['Rock', 'Ground', 'Steel', 'Ice']"
            ]
          },
          "execution_count": 28,
          "metadata": {},
          "output_type": "execute_result"
        }
      ],
      "source": [
        "best_defence_class = ['Rock', 'Ground', 'Steel', 'Ice']\n",
        "best_defence_class"
      ]
    },
    {
      "cell_type": "code",
      "execution_count": null,
      "metadata": {
        "id": "dYau4qUdGviU",
        "outputId": "4adc2161-eba1-4095-bf06-0e5eac9b8090"
      },
      "outputs": [
        {
          "data": {
            "text/html": [
              "<div>\n",
              "<style scoped>\n",
              "    .dataframe tbody tr th:only-of-type {\n",
              "        vertical-align: middle;\n",
              "    }\n",
              "\n",
              "    .dataframe tbody tr th {\n",
              "        vertical-align: top;\n",
              "    }\n",
              "\n",
              "    .dataframe thead th {\n",
              "        text-align: right;\n",
              "    }\n",
              "</style>\n",
              "<table border=\"1\" class=\"dataframe\">\n",
              "  <thead>\n",
              "    <tr style=\"text-align: right;\">\n",
              "      <th></th>\n",
              "      <th>pid</th>\n",
              "      <th>Name</th>\n",
              "      <th>Class 1</th>\n",
              "      <th>Class 2</th>\n",
              "      <th>HP</th>\n",
              "      <th>Attack</th>\n",
              "      <th>Defense</th>\n",
              "      <th>Sp. Atk</th>\n",
              "      <th>Sp. Def</th>\n",
              "      <th>Speed</th>\n",
              "      <th>Legendary</th>\n",
              "      <th>HP_Attack_defense</th>\n",
              "    </tr>\n",
              "  </thead>\n",
              "  <tbody>\n",
              "    <tr>\n",
              "      <th>32</th>\n",
              "      <td>33</td>\n",
              "      <td>Sandshrew</td>\n",
              "      <td>Ground</td>\n",
              "      <td>NaN</td>\n",
              "      <td>50</td>\n",
              "      <td>75</td>\n",
              "      <td>85</td>\n",
              "      <td>20</td>\n",
              "      <td>30</td>\n",
              "      <td>40</td>\n",
              "      <td>False</td>\n",
              "      <td>210</td>\n",
              "    </tr>\n",
              "    <tr>\n",
              "      <th>33</th>\n",
              "      <td>34</td>\n",
              "      <td>Sandslash</td>\n",
              "      <td>Ground</td>\n",
              "      <td>NaN</td>\n",
              "      <td>75</td>\n",
              "      <td>100</td>\n",
              "      <td>110</td>\n",
              "      <td>45</td>\n",
              "      <td>55</td>\n",
              "      <td>65</td>\n",
              "      <td>False</td>\n",
              "      <td>285</td>\n",
              "    </tr>\n",
              "    <tr>\n",
              "      <th>36</th>\n",
              "      <td>37</td>\n",
              "      <td>Nidoqueen</td>\n",
              "      <td>Poison</td>\n",
              "      <td>Ground</td>\n",
              "      <td>90</td>\n",
              "      <td>92</td>\n",
              "      <td>87</td>\n",
              "      <td>75</td>\n",
              "      <td>85</td>\n",
              "      <td>76</td>\n",
              "      <td>False</td>\n",
              "      <td>269</td>\n",
              "    </tr>\n",
              "    <tr>\n",
              "      <th>39</th>\n",
              "      <td>40</td>\n",
              "      <td>Nidoking</td>\n",
              "      <td>Poison</td>\n",
              "      <td>Ground</td>\n",
              "      <td>81</td>\n",
              "      <td>102</td>\n",
              "      <td>77</td>\n",
              "      <td>85</td>\n",
              "      <td>75</td>\n",
              "      <td>85</td>\n",
              "      <td>False</td>\n",
              "      <td>260</td>\n",
              "    </tr>\n",
              "    <tr>\n",
              "      <th>55</th>\n",
              "      <td>56</td>\n",
              "      <td>Diglett</td>\n",
              "      <td>Ground</td>\n",
              "      <td>NaN</td>\n",
              "      <td>10</td>\n",
              "      <td>55</td>\n",
              "      <td>25</td>\n",
              "      <td>35</td>\n",
              "      <td>45</td>\n",
              "      <td>95</td>\n",
              "      <td>False</td>\n",
              "      <td>90</td>\n",
              "    </tr>\n",
              "  </tbody>\n",
              "</table>\n",
              "</div>"
            ],
            "text/plain": [
              "    pid       Name Class 1 Class 2  HP  Attack  Defense  Sp. Atk  Sp. Def  \\\n",
              "32   33  Sandshrew  Ground     NaN  50      75       85       20       30   \n",
              "33   34  Sandslash  Ground     NaN  75     100      110       45       55   \n",
              "36   37  Nidoqueen  Poison  Ground  90      92       87       75       85   \n",
              "39   40   Nidoking  Poison  Ground  81     102       77       85       75   \n",
              "55   56    Diglett  Ground     NaN  10      55       25       35       45   \n",
              "\n",
              "    Speed  Legendary  HP_Attack_defense  \n",
              "32     40      False                210  \n",
              "33     65      False                285  \n",
              "36     76      False                269  \n",
              "39     85      False                260  \n",
              "55     95      False                 90  "
            ]
          },
          "execution_count": 201,
          "metadata": {},
          "output_type": "execute_result"
        }
      ],
      "source": [
        "pokemon1= pokemon[(pokemon['Class 1'].isin(['Rock']) & (~pokemon['Class 2'].isin(['Ground', 'Steel', 'Ice']))) | \n",
        "        (pokemon['Class 2'].isin(['Rock']) & (~pokemon['Class 1'].isin(['Ground', 'Steel', 'Ice'])))|\n",
        " (pokemon['Class 1'].isin(['Ground']) & (~pokemon['Class 2'].isin(['Rock',  'Steel', 'Ice']))) | \n",
        "        (pokemon['Class 2'].isin(['Ground']) & (~pokemon['Class 1'].isin(['Rock',  'Steel', 'Ice'])))|\n",
        "         (pokemon['Class 1'].isin(['Steel']) & (~pokemon['Class 2'].isin(['Rock', 'Ground',  'Ice']))) | \n",
        "        (pokemon['Class 2'].isin(['Steel']) & (~pokemon['Class 1'].isin(['Rock', 'Ground',  'Ice'])))|\n",
        "                 (pokemon['Class 1'].isin([ 'Ice']) & (~pokemon['Class 2'].isin(['Rock', 'Ground', 'Steel']))) | \n",
        "        (pokemon['Class 2'].isin([ 'Ice']) & (~pokemon['Class 1'].isin(['Rock', 'Ground', 'Steel'])))]\n",
        "               \n",
        "pokemon1.head()"
      ]
    },
    {
      "cell_type": "code",
      "execution_count": null,
      "metadata": {
        "id": "_mFTJYV-GviU"
      },
      "outputs": [],
      "source": [
        "A=pokemon1[pokemon1['Class 1'].isin(['Rock'])|pokemon1['Class 2'].isin(['Rock'])]['Defense']\n",
        "B=pokemon1[pokemon1['Class 1'].isin(['Ground'])|pokemon1['Class 2'].isin(['Ground'])]['Defense']\n",
        "C=pokemon1[pokemon1['Class 1'].isin(['Steel'])|pokemon1['Class 2'].isin(['Steel'])]['Defense']\n",
        "D=pokemon1[pokemon1['Class 1'].isin(['Ice'])|pokemon1['Class 2'].isin(['Ice'])]['Defense']\n"
      ]
    },
    {
      "cell_type": "code",
      "execution_count": null,
      "metadata": {
        "id": "Ulsg3VnSGviV",
        "outputId": "cb24c931-f1fd-4645-f44d-3a24f77586a7"
      },
      "outputs": [
        {
          "data": {
            "text/plain": [
              "1.885892116821956e-05"
            ]
          },
          "execution_count": 211,
          "metadata": {},
          "output_type": "execute_result"
        }
      ],
      "source": [
        "# тк у нас 4 разные группы - применяем дисперсионный анализ\n",
        "from scipy.stats import f_oneway\n",
        "import scipy.stats as stats\n",
        "stat, p= stats.f_oneway(A,B,C,D)\n",
        "p"
      ]
    },
    {
      "cell_type": "code",
      "execution_count": null,
      "metadata": {
        "id": "XEAxvt8_GviV",
        "outputId": "1dbb6a42-8ad1-47f2-d693-9abdb2044f7c"
      },
      "outputs": [
        {
          "data": {
            "text/plain": [
              "104.09756097560975"
            ]
          },
          "execution_count": 212,
          "metadata": {},
          "output_type": "execute_result"
        }
      ],
      "source": [
        "A.mean()"
      ]
    },
    {
      "cell_type": "code",
      "execution_count": null,
      "metadata": {
        "id": "vWFOF5mTGviV",
        "outputId": "2db1c8e0-63e5-4f5c-c4e0-5cf230a4d98f"
      },
      "outputs": [
        {
          "data": {
            "text/plain": [
              "81.07692307692308"
            ]
          },
          "execution_count": 213,
          "metadata": {},
          "output_type": "execute_result"
        }
      ],
      "source": [
        "B.mean()"
      ]
    },
    {
      "cell_type": "code",
      "execution_count": null,
      "metadata": {
        "id": "vEvMQM4EGviV",
        "outputId": "3bc17551-c8e8-470b-aa21-f31f19a1f56c"
      },
      "outputs": [
        {
          "data": {
            "text/plain": [
              "109.325"
            ]
          },
          "execution_count": 214,
          "metadata": {},
          "output_type": "execute_result"
        }
      ],
      "source": [
        "C.mean()"
      ]
    },
    {
      "cell_type": "code",
      "execution_count": null,
      "metadata": {
        "id": "2wDxn9iwGviV",
        "outputId": "8c0f4215-80d8-446b-b586-b8de871dc645"
      },
      "outputs": [
        {
          "data": {
            "text/plain": [
              "78.51515151515152"
            ]
          },
          "execution_count": 215,
          "metadata": {},
          "output_type": "execute_result"
        }
      ],
      "source": [
        "D.mean()"
      ]
    },
    {
      "cell_type": "code",
      "execution_count": null,
      "metadata": {
        "id": "_dYNqFVvGviV"
      },
      "outputs": [],
      "source": [
        " # p-value менее 0.05 - что означает, что нулевая гипотеза отклоняется - \n",
        "    #значит различия между группами являются статистически значимыми "
      ]
    }
  ],
  "metadata": {
    "kernelspec": {
      "display_name": "Python 3 (ipykernel)",
      "language": "python",
      "name": "python3"
    },
    "language_info": {
      "codemirror_mode": {
        "name": "ipython",
        "version": 3
      },
      "file_extension": ".py",
      "mimetype": "text/x-python",
      "name": "python",
      "nbconvert_exporter": "python",
      "pygments_lexer": "ipython3",
      "version": "3.9.12"
    },
    "toc": {
      "base_numbering": 1,
      "nav_menu": {},
      "number_sections": true,
      "sideBar": true,
      "skip_h1_title": false,
      "title_cell": "Table of Contents",
      "title_sidebar": "Contents",
      "toc_cell": false,
      "toc_position": {},
      "toc_section_display": true,
      "toc_window_display": false
    },
    "colab": {
      "provenance": [],
      "include_colab_link": true
    }
  },
  "nbformat": 4,
  "nbformat_minor": 0
}
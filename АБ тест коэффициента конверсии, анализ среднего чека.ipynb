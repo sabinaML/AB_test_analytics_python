{
 "cells": [
  {
   "cell_type": "code",
   "execution_count": 20,
   "id": "280d2f17",
   "metadata": {},
   "outputs": [],
   "source": [
    "import pandas as pd\n",
    "import numpy as np"
   ]
  },
  {
   "cell_type": "code",
   "execution_count": 23,
   "id": "85c436e1",
   "metadata": {},
   "outputs": [],
   "source": [
    "#Представлен датасет некой интернет-компании. \n",
    "#Вопрос: a.Какой рекламный канал принёс больше всего дохода за всё время?\n",
    "#Вопрос b.Как изменился средний чек транзакции после введения коронавирусных ограничений? Как он изменился для пользователей,\n",
    "# покупающих с промокодом и без? (параметр «promo_activated»)\n",
    "# Вопрос c. Можно ли с уверенностью в 95% сказать, что CR (коэффициент конверсии в транзакцию) в выходные дни отличается \n",
    "#от CR в будние дни?"
   ]
  },
  {
   "cell_type": "code",
   "execution_count": 21,
   "id": "a57a6447",
   "metadata": {},
   "outputs": [
    {
     "data": {
      "text/html": [
       "<div>\n",
       "<style scoped>\n",
       "    .dataframe tbody tr th:only-of-type {\n",
       "        vertical-align: middle;\n",
       "    }\n",
       "\n",
       "    .dataframe tbody tr th {\n",
       "        vertical-align: top;\n",
       "    }\n",
       "\n",
       "    .dataframe thead th {\n",
       "        text-align: right;\n",
       "    }\n",
       "</style>\n",
       "<table border=\"1\" class=\"dataframe\">\n",
       "  <thead>\n",
       "    <tr style=\"text-align: right;\">\n",
       "      <th></th>\n",
       "      <th>date</th>\n",
       "      <th>source</th>\n",
       "      <th>medium</th>\n",
       "      <th>delivery_available</th>\n",
       "      <th>device_type</th>\n",
       "      <th>promo_activated</th>\n",
       "      <th>filter_used</th>\n",
       "      <th>pageviews</th>\n",
       "      <th>visits</th>\n",
       "      <th>productClick</th>\n",
       "      <th>addToCart</th>\n",
       "      <th>checkout</th>\n",
       "      <th>transactions</th>\n",
       "      <th>revenue</th>\n",
       "    </tr>\n",
       "  </thead>\n",
       "  <tbody>\n",
       "    <tr>\n",
       "      <th>0</th>\n",
       "      <td>2020-05-11</td>\n",
       "      <td>google</td>\n",
       "      <td>organic</td>\n",
       "      <td>Не определено</td>\n",
       "      <td>Десктоп</td>\n",
       "      <td>no</td>\n",
       "      <td>no</td>\n",
       "      <td>3120</td>\n",
       "      <td>1233</td>\n",
       "      <td>5240</td>\n",
       "      <td>1048</td>\n",
       "      <td>525</td>\n",
       "      <td>90</td>\n",
       "      <td>86649.0</td>\n",
       "    </tr>\n",
       "    <tr>\n",
       "      <th>1</th>\n",
       "      <td>2020-05-11</td>\n",
       "      <td>yandex</td>\n",
       "      <td>cpc</td>\n",
       "      <td>Не определено</td>\n",
       "      <td>Мобайл</td>\n",
       "      <td>yes</td>\n",
       "      <td>no</td>\n",
       "      <td>3302</td>\n",
       "      <td>544</td>\n",
       "      <td>9930</td>\n",
       "      <td>1984</td>\n",
       "      <td>1416</td>\n",
       "      <td>217</td>\n",
       "      <td>244478.0</td>\n",
       "    </tr>\n",
       "    <tr>\n",
       "      <th>2</th>\n",
       "      <td>2020-05-11</td>\n",
       "      <td>google</td>\n",
       "      <td>cpc</td>\n",
       "      <td>Не определено</td>\n",
       "      <td>Мобайл</td>\n",
       "      <td>no</td>\n",
       "      <td>no</td>\n",
       "      <td>2970</td>\n",
       "      <td>1450</td>\n",
       "      <td>5460</td>\n",
       "      <td>1090</td>\n",
       "      <td>599</td>\n",
       "      <td>100</td>\n",
       "      <td>105150.0</td>\n",
       "    </tr>\n",
       "    <tr>\n",
       "      <th>3</th>\n",
       "      <td>2020-05-11</td>\n",
       "      <td>google</td>\n",
       "      <td>cpc</td>\n",
       "      <td>Не определено</td>\n",
       "      <td>Десктоп</td>\n",
       "      <td>no</td>\n",
       "      <td>no</td>\n",
       "      <td>1875</td>\n",
       "      <td>854</td>\n",
       "      <td>4250</td>\n",
       "      <td>848</td>\n",
       "      <td>407</td>\n",
       "      <td>71</td>\n",
       "      <td>79003.0</td>\n",
       "    </tr>\n",
       "    <tr>\n",
       "      <th>4</th>\n",
       "      <td>2020-05-11</td>\n",
       "      <td>yandex</td>\n",
       "      <td>organic</td>\n",
       "      <td>Не определено</td>\n",
       "      <td>Десктоп</td>\n",
       "      <td>no</td>\n",
       "      <td>no</td>\n",
       "      <td>2159</td>\n",
       "      <td>1000</td>\n",
       "      <td>4110</td>\n",
       "      <td>824</td>\n",
       "      <td>351</td>\n",
       "      <td>62</td>\n",
       "      <td>61861.0</td>\n",
       "    </tr>\n",
       "    <tr>\n",
       "      <th>...</th>\n",
       "      <td>...</td>\n",
       "      <td>...</td>\n",
       "      <td>...</td>\n",
       "      <td>...</td>\n",
       "      <td>...</td>\n",
       "      <td>...</td>\n",
       "      <td>...</td>\n",
       "      <td>...</td>\n",
       "      <td>...</td>\n",
       "      <td>...</td>\n",
       "      <td>...</td>\n",
       "      <td>...</td>\n",
       "      <td>...</td>\n",
       "      <td>...</td>\n",
       "    </tr>\n",
       "    <tr>\n",
       "      <th>52719</th>\n",
       "      <td>2020-06-21</td>\n",
       "      <td>(direct)</td>\n",
       "      <td>(none)</td>\n",
       "      <td>Доставка есть</td>\n",
       "      <td>Мобайл</td>\n",
       "      <td>yes</td>\n",
       "      <td>yes</td>\n",
       "      <td>65</td>\n",
       "      <td>4</td>\n",
       "      <td>250</td>\n",
       "      <td>50</td>\n",
       "      <td>58</td>\n",
       "      <td>4</td>\n",
       "      <td>4821.0</td>\n",
       "    </tr>\n",
       "    <tr>\n",
       "      <th>52720</th>\n",
       "      <td>2020-08-09</td>\n",
       "      <td>co-promo</td>\n",
       "      <td>email</td>\n",
       "      <td>Доставка есть</td>\n",
       "      <td>Мобайл</td>\n",
       "      <td>no</td>\n",
       "      <td>no</td>\n",
       "      <td>43</td>\n",
       "      <td>2</td>\n",
       "      <td>250</td>\n",
       "      <td>50</td>\n",
       "      <td>23</td>\n",
       "      <td>1</td>\n",
       "      <td>7348.0</td>\n",
       "    </tr>\n",
       "    <tr>\n",
       "      <th>52721</th>\n",
       "      <td>2020-09-22</td>\n",
       "      <td>google</td>\n",
       "      <td>cpc</td>\n",
       "      <td>Доставка есть</td>\n",
       "      <td>Мобайл</td>\n",
       "      <td>yes</td>\n",
       "      <td>yes</td>\n",
       "      <td>153</td>\n",
       "      <td>3</td>\n",
       "      <td>250</td>\n",
       "      <td>50</td>\n",
       "      <td>58</td>\n",
       "      <td>1</td>\n",
       "      <td>958.0</td>\n",
       "    </tr>\n",
       "    <tr>\n",
       "      <th>52722</th>\n",
       "      <td>2020-08-25</td>\n",
       "      <td>(direct)</td>\n",
       "      <td>(none)</td>\n",
       "      <td>Не определено</td>\n",
       "      <td>Мобайл</td>\n",
       "      <td>yes</td>\n",
       "      <td>yes</td>\n",
       "      <td>219</td>\n",
       "      <td>8</td>\n",
       "      <td>250</td>\n",
       "      <td>50</td>\n",
       "      <td>45</td>\n",
       "      <td>1</td>\n",
       "      <td>828.0</td>\n",
       "    </tr>\n",
       "    <tr>\n",
       "      <th>52723</th>\n",
       "      <td>2020-03-19</td>\n",
       "      <td>admitad</td>\n",
       "      <td>cpa</td>\n",
       "      <td>Не определено</td>\n",
       "      <td>Десктоп</td>\n",
       "      <td>yes</td>\n",
       "      <td>yes</td>\n",
       "      <td>83</td>\n",
       "      <td>5</td>\n",
       "      <td>250</td>\n",
       "      <td>50</td>\n",
       "      <td>25</td>\n",
       "      <td>4</td>\n",
       "      <td>4078.0</td>\n",
       "    </tr>\n",
       "  </tbody>\n",
       "</table>\n",
       "<p>52724 rows × 14 columns</p>\n",
       "</div>"
      ],
      "text/plain": [
       "            date    source   medium delivery_available device_type  \\\n",
       "0     2020-05-11    google  organic      Не определено     Десктоп   \n",
       "1     2020-05-11    yandex      cpc      Не определено      Мобайл   \n",
       "2     2020-05-11    google      cpc      Не определено      Мобайл   \n",
       "3     2020-05-11    google      cpc      Не определено     Десктоп   \n",
       "4     2020-05-11    yandex  organic      Не определено     Десктоп   \n",
       "...          ...       ...      ...                ...         ...   \n",
       "52719 2020-06-21  (direct)   (none)      Доставка есть      Мобайл   \n",
       "52720 2020-08-09  co-promo    email      Доставка есть      Мобайл   \n",
       "52721 2020-09-22    google      cpc      Доставка есть      Мобайл   \n",
       "52722 2020-08-25  (direct)   (none)      Не определено      Мобайл   \n",
       "52723 2020-03-19   admitad      cpa      Не определено     Десктоп   \n",
       "\n",
       "      promo_activated filter_used  pageviews  visits  productClick  addToCart  \\\n",
       "0                  no          no       3120    1233          5240       1048   \n",
       "1                 yes          no       3302     544          9930       1984   \n",
       "2                  no          no       2970    1450          5460       1090   \n",
       "3                  no          no       1875     854          4250        848   \n",
       "4                  no          no       2159    1000          4110        824   \n",
       "...               ...         ...        ...     ...           ...        ...   \n",
       "52719             yes         yes         65       4           250         50   \n",
       "52720              no          no         43       2           250         50   \n",
       "52721             yes         yes        153       3           250         50   \n",
       "52722             yes         yes        219       8           250         50   \n",
       "52723             yes         yes         83       5           250         50   \n",
       "\n",
       "       checkout  transactions   revenue  \n",
       "0           525            90   86649.0  \n",
       "1          1416           217  244478.0  \n",
       "2           599           100  105150.0  \n",
       "3           407            71   79003.0  \n",
       "4           351            62   61861.0  \n",
       "...         ...           ...       ...  \n",
       "52719        58             4    4821.0  \n",
       "52720        23             1    7348.0  \n",
       "52721        58             1     958.0  \n",
       "52722        45             1     828.0  \n",
       "52723        25             4    4078.0  \n",
       "\n",
       "[52724 rows x 14 columns]"
      ]
     },
     "execution_count": 21,
     "metadata": {},
     "output_type": "execute_result"
    }
   ],
   "source": [
    "df = pd.read_csv(r\"C:\\\\Users\\\\Администратор\\\\Desktop\\\\python\\\\adv_data.csv\", encoding='windows-1251', sep=',', parse_dates=[0])\n",
    "df"
   ]
  },
  {
   "cell_type": "code",
   "execution_count": 24,
   "id": "5748f3c0",
   "metadata": {},
   "outputs": [],
   "source": [
    "#Вопрос: a.Какой рекламный канал принёс больше всего дохода за всё время?"
   ]
  },
  {
   "cell_type": "code",
   "execution_count": 29,
   "id": "8c9c1378",
   "metadata": {},
   "outputs": [
    {
     "data": {
      "text/plain": [
       "source\n",
       "yandex           4.674748e+08\n",
       "google           4.565170e+08\n",
       "(direct)         2.384474e+08\n",
       "admitad          6.573886e+07\n",
       "eLama            1.643239e+07\n",
       "cityads          1.429077e+07\n",
       "promo            5.363685e+06\n",
       "co-promo         3.347826e+06\n",
       "newsletter       2.225289e+06\n",
       "other            1.839654e+06\n",
       "DuckDuckGo       9.214030e+05\n",
       "vk               6.176850e+05\n",
       "actionpay        5.557170e+05\n",
       "bing             4.727260e+05\n",
       "advertise        4.404360e+05\n",
       "mytarget         4.136530e+05\n",
       "opmcpa           3.938250e+05\n",
       "facebook         2.940910e+05\n",
       "instagram        1.527800e+04\n",
       "yandex_direct    1.296000e+04\n",
       "sailplay         1.294100e+04\n",
       "exponea          8.804000e+03\n",
       "baidu            0.000000e+00\n",
       "youtube          0.000000e+00\n",
       "Name: revenue, dtype: float64"
      ]
     },
     "execution_count": 29,
     "metadata": {},
     "output_type": "execute_result"
    }
   ],
   "source": [
    "df.groupby('source')['revenue'].sum().sort_values(ascending=False)\n",
    "#Решение: группируем по полю \"source\", находим сумму 'revenue' по каждой группе; сортируем по убыванию\n",
    "#Ответ: yandex "
   ]
  },
  {
   "cell_type": "code",
   "execution_count": null,
   "id": "2b65989d",
   "metadata": {},
   "outputs": [],
   "source": [
    "#Вопрос b.Как изменился средний чек транзакции после введения коронавирусных ограничений? Как он изменился для пользователей,\n",
    "# покупающих с промокодом и без? (параметр «promo_activated»)"
   ]
  },
  {
   "cell_type": "code",
   "execution_count": 35,
   "id": "89c59275",
   "metadata": {},
   "outputs": [
    {
     "data": {
      "text/html": [
       "<div>\n",
       "<style scoped>\n",
       "    .dataframe tbody tr th:only-of-type {\n",
       "        vertical-align: middle;\n",
       "    }\n",
       "\n",
       "    .dataframe tbody tr th {\n",
       "        vertical-align: top;\n",
       "    }\n",
       "\n",
       "    .dataframe thead th {\n",
       "        text-align: right;\n",
       "    }\n",
       "</style>\n",
       "<table border=\"1\" class=\"dataframe\">\n",
       "  <thead>\n",
       "    <tr style=\"text-align: right;\">\n",
       "      <th></th>\n",
       "      <th>date</th>\n",
       "      <th>source</th>\n",
       "      <th>medium</th>\n",
       "      <th>delivery_available</th>\n",
       "      <th>device_type</th>\n",
       "      <th>promo_activated</th>\n",
       "      <th>filter_used</th>\n",
       "      <th>pageviews</th>\n",
       "      <th>visits</th>\n",
       "      <th>productClick</th>\n",
       "      <th>addToCart</th>\n",
       "      <th>checkout</th>\n",
       "      <th>transactions</th>\n",
       "      <th>revenue</th>\n",
       "      <th>period</th>\n",
       "    </tr>\n",
       "  </thead>\n",
       "  <tbody>\n",
       "    <tr>\n",
       "      <th>0</th>\n",
       "      <td>2020-05-11</td>\n",
       "      <td>google</td>\n",
       "      <td>organic</td>\n",
       "      <td>Не определено</td>\n",
       "      <td>Десктоп</td>\n",
       "      <td>no</td>\n",
       "      <td>no</td>\n",
       "      <td>3120</td>\n",
       "      <td>1233</td>\n",
       "      <td>5240</td>\n",
       "      <td>1048</td>\n",
       "      <td>525</td>\n",
       "      <td>90</td>\n",
       "      <td>86649.0</td>\n",
       "      <td>2020-05</td>\n",
       "    </tr>\n",
       "    <tr>\n",
       "      <th>1</th>\n",
       "      <td>2020-05-11</td>\n",
       "      <td>yandex</td>\n",
       "      <td>cpc</td>\n",
       "      <td>Не определено</td>\n",
       "      <td>Мобайл</td>\n",
       "      <td>yes</td>\n",
       "      <td>no</td>\n",
       "      <td>3302</td>\n",
       "      <td>544</td>\n",
       "      <td>9930</td>\n",
       "      <td>1984</td>\n",
       "      <td>1416</td>\n",
       "      <td>217</td>\n",
       "      <td>244478.0</td>\n",
       "      <td>2020-05</td>\n",
       "    </tr>\n",
       "    <tr>\n",
       "      <th>2</th>\n",
       "      <td>2020-05-11</td>\n",
       "      <td>google</td>\n",
       "      <td>cpc</td>\n",
       "      <td>Не определено</td>\n",
       "      <td>Мобайл</td>\n",
       "      <td>no</td>\n",
       "      <td>no</td>\n",
       "      <td>2970</td>\n",
       "      <td>1450</td>\n",
       "      <td>5460</td>\n",
       "      <td>1090</td>\n",
       "      <td>599</td>\n",
       "      <td>100</td>\n",
       "      <td>105150.0</td>\n",
       "      <td>2020-05</td>\n",
       "    </tr>\n",
       "  </tbody>\n",
       "</table>\n",
       "</div>"
      ],
      "text/plain": [
       "        date  source   medium delivery_available device_type promo_activated  \\\n",
       "0 2020-05-11  google  organic      Не определено     Десктоп              no   \n",
       "1 2020-05-11  yandex      cpc      Не определено      Мобайл             yes   \n",
       "2 2020-05-11  google      cpc      Не определено      Мобайл              no   \n",
       "\n",
       "  filter_used  pageviews  visits  productClick  addToCart  checkout  \\\n",
       "0          no       3120    1233          5240       1048       525   \n",
       "1          no       3302     544          9930       1984      1416   \n",
       "2          no       2970    1450          5460       1090       599   \n",
       "\n",
       "   transactions   revenue   period  \n",
       "0            90   86649.0  2020-05  \n",
       "1           217  244478.0  2020-05  \n",
       "2           100  105150.0  2020-05  "
      ]
     },
     "execution_count": 35,
     "metadata": {},
     "output_type": "execute_result"
    }
   ],
   "source": [
    "#добавляем столбец period  - в формате ГГГГ-ММ, чтобы группировать данные по месяцам\n",
    "df['period']=df.date.dt.to_period('M')\n",
    "df.head(3)"
   ]
  },
  {
   "cell_type": "code",
   "execution_count": 39,
   "id": "37533945",
   "metadata": {},
   "outputs": [
    {
     "data": {
      "text/plain": [
       "<AxesSubplot:xlabel='period'>"
      ]
     },
     "execution_count": 39,
     "metadata": {},
     "output_type": "execute_result"
    },
    {
     "data": {
      "image/png": "[encoded data removed]",
      "text/plain": [
       "<Figure size 432x288 with 1 Axes>"
      ]
     },
     "metadata": {
      "needs_background": "light"
     },
     "output_type": "display_data"
    }
   ],
   "source": [
    " # находим средний чек в помесячной разбивке  - сумму выручки делим на сумму транзакций за период\n",
    "av_check = pd.Series(df.groupby('period')['revenue'].sum()/df.groupby('period')['transactions'].sum())\n",
    "av_check.plot()"
   ]
  },
  {
   "cell_type": "code",
   "execution_count": 40,
   "id": "46c8bdc1",
   "metadata": {},
   "outputs": [
    {
     "data": {
      "text/plain": [
       "period\n",
       "2020-01    1261.019182\n",
       "2020-02    1296.709472\n",
       "2020-03    1231.478035\n",
       "2020-04    1088.105668\n",
       "2020-05    1137.963165\n",
       "2020-06    1179.040242\n",
       "2020-07    1210.413338\n",
       "2020-08    1214.766272\n",
       "2020-09    1245.895276\n",
       "Freq: M, dtype: float64"
      ]
     },
     "execution_count": 40,
     "metadata": {},
     "output_type": "execute_result"
    }
   ],
   "source": [
    "av_check"
   ]
  },
  {
   "cell_type": "code",
   "execution_count": null,
   "id": "604b2371",
   "metadata": {},
   "outputs": [],
   "source": [
    "#Ответ: после введения коронавирусных ограничений - средний чек упал (минимальное значение в апреле - 1088,1)"
   ]
  },
  {
   "cell_type": "code",
   "execution_count": 59,
   "id": "3b7d9197",
   "metadata": {},
   "outputs": [
    {
     "data": {
      "text/html": [
       "<div>\n",
       "<style scoped>\n",
       "    .dataframe tbody tr th:only-of-type {\n",
       "        vertical-align: middle;\n",
       "    }\n",
       "\n",
       "    .dataframe tbody tr th {\n",
       "        vertical-align: top;\n",
       "    }\n",
       "\n",
       "    .dataframe thead th {\n",
       "        text-align: right;\n",
       "    }\n",
       "</style>\n",
       "<table border=\"1\" class=\"dataframe\">\n",
       "  <thead>\n",
       "    <tr style=\"text-align: right;\">\n",
       "      <th></th>\n",
       "      <th>period</th>\n",
       "      <th>promo_activated</th>\n",
       "      <th>av_check</th>\n",
       "    </tr>\n",
       "  </thead>\n",
       "  <tbody>\n",
       "    <tr>\n",
       "      <th>0</th>\n",
       "      <td>2020-01</td>\n",
       "      <td>no</td>\n",
       "      <td>1244.530687</td>\n",
       "    </tr>\n",
       "    <tr>\n",
       "      <th>1</th>\n",
       "      <td>2020-01</td>\n",
       "      <td>yes</td>\n",
       "      <td>1280.648422</td>\n",
       "    </tr>\n",
       "    <tr>\n",
       "      <th>2</th>\n",
       "      <td>2020-02</td>\n",
       "      <td>no</td>\n",
       "      <td>1304.337855</td>\n",
       "    </tr>\n",
       "  </tbody>\n",
       "</table>\n",
       "</div>"
      ],
      "text/plain": [
       "    period promo_activated     av_check\n",
       "0  2020-01              no  1244.530687\n",
       "1  2020-01             yes  1280.648422\n",
       "2  2020-02              no  1304.337855"
      ]
     },
     "execution_count": 59,
     "metadata": {},
     "output_type": "execute_result"
    }
   ],
   "source": [
    "av_check_promo = pd.DataFrame(df.groupby(['period', 'promo_activated'])['revenue'].sum()/\\\n",
    "                              df.groupby(['period', 'promo_activated'])['transactions'].sum()).reset_index()\n",
    "av_check_promo.columns = ['period', 'promo_activated', 'av_check']\n",
    "av_check_promo.head(3)"
   ]
  },
  {
   "cell_type": "code",
   "execution_count": 57,
   "id": "3b39fb24",
   "metadata": {},
   "outputs": [
    {
     "data": {
      "text/html": [
       "<div>\n",
       "<style scoped>\n",
       "    .dataframe tbody tr th:only-of-type {\n",
       "        vertical-align: middle;\n",
       "    }\n",
       "\n",
       "    .dataframe tbody tr th {\n",
       "        vertical-align: top;\n",
       "    }\n",
       "\n",
       "    .dataframe thead th {\n",
       "        text-align: right;\n",
       "    }\n",
       "</style>\n",
       "<table border=\"1\" class=\"dataframe\">\n",
       "  <thead>\n",
       "    <tr style=\"text-align: right;\">\n",
       "      <th></th>\n",
       "      <th>period</th>\n",
       "      <th>promo_no</th>\n",
       "      <th>promo_yes</th>\n",
       "    </tr>\n",
       "  </thead>\n",
       "  <tbody>\n",
       "    <tr>\n",
       "      <th>0</th>\n",
       "      <td>2020-01</td>\n",
       "      <td>1244.530687</td>\n",
       "      <td>1280.648422</td>\n",
       "    </tr>\n",
       "    <tr>\n",
       "      <th>1</th>\n",
       "      <td>2020-02</td>\n",
       "      <td>1304.337855</td>\n",
       "      <td>1288.875879</td>\n",
       "    </tr>\n",
       "    <tr>\n",
       "      <th>2</th>\n",
       "      <td>2020-03</td>\n",
       "      <td>1270.425002</td>\n",
       "      <td>1200.820550</td>\n",
       "    </tr>\n",
       "    <tr>\n",
       "      <th>3</th>\n",
       "      <td>2020-04</td>\n",
       "      <td>1123.573126</td>\n",
       "      <td>1067.184177</td>\n",
       "    </tr>\n",
       "    <tr>\n",
       "      <th>4</th>\n",
       "      <td>2020-05</td>\n",
       "      <td>1111.867914</td>\n",
       "      <td>1158.713236</td>\n",
       "    </tr>\n",
       "    <tr>\n",
       "      <th>5</th>\n",
       "      <td>2020-06</td>\n",
       "      <td>1122.527078</td>\n",
       "      <td>1228.282591</td>\n",
       "    </tr>\n",
       "    <tr>\n",
       "      <th>6</th>\n",
       "      <td>2020-07</td>\n",
       "      <td>1151.087924</td>\n",
       "      <td>1273.968520</td>\n",
       "    </tr>\n",
       "    <tr>\n",
       "      <th>7</th>\n",
       "      <td>2020-08</td>\n",
       "      <td>1182.864093</td>\n",
       "      <td>1258.462771</td>\n",
       "    </tr>\n",
       "    <tr>\n",
       "      <th>8</th>\n",
       "      <td>2020-09</td>\n",
       "      <td>1219.845781</td>\n",
       "      <td>1276.098510</td>\n",
       "    </tr>\n",
       "  </tbody>\n",
       "</table>\n",
       "</div>"
      ],
      "text/plain": [
       "    period     promo_no    promo_yes\n",
       "0  2020-01  1244.530687  1280.648422\n",
       "1  2020-02  1304.337855  1288.875879\n",
       "2  2020-03  1270.425002  1200.820550\n",
       "3  2020-04  1123.573126  1067.184177\n",
       "4  2020-05  1111.867914  1158.713236\n",
       "5  2020-06  1122.527078  1228.282591\n",
       "6  2020-07  1151.087924  1273.968520\n",
       "7  2020-08  1182.864093  1258.462771\n",
       "8  2020-09  1219.845781  1276.098510"
      ]
     },
     "execution_count": 57,
     "metadata": {},
     "output_type": "execute_result"
    }
   ],
   "source": [
    "av_check_promo = av_check_promo.pivot_table(index='period',  columns='promo_activated',  values='av_check').reset_index()\n",
    "av_check_promo.columns = ['period', 'promo_no', 'promo_yes']\n",
    "av_check_promo"
   ]
  },
  {
   "cell_type": "code",
   "execution_count": 58,
   "id": "02dec33c",
   "metadata": {},
   "outputs": [
    {
     "data": {
      "text/plain": [
       "<AxesSubplot:>"
      ]
     },
     "execution_count": 58,
     "metadata": {},
     "output_type": "execute_result"
    },
    {
     "data": {
      "image/png": "[encoded data removed]",
      "text/plain": [
       "<Figure size 432x288 with 1 Axes>"
      ]
     },
     "metadata": {
      "needs_background": "light"
     },
     "output_type": "display_data"
    }
   ],
   "source": [
    "av_check_promo.plot()"
   ]
  },
  {
   "cell_type": "code",
   "execution_count": null,
   "id": "c13e307b",
   "metadata": {},
   "outputs": [],
   "source": [
    "# Для покупающих с промокодом средний чек упал сильнее, но и восстановился быстрее - по сравнению с группой без промокода"
   ]
  },
  {
   "cell_type": "code",
   "execution_count": null,
   "id": "e0695cb7",
   "metadata": {},
   "outputs": [],
   "source": [
    "# Вопрос c. Можно ли с уверенностью в 95% сказать, что CR (коэффициент конверсии в транзакцию) в выходные дни отличается \n",
    "#от CR в будние дни?"
   ]
  },
  {
   "cell_type": "code",
   "execution_count": 74,
   "id": "2f09444e",
   "metadata": {},
   "outputs": [],
   "source": [
    "#добавим поле 'weekday', где 5 и 6 - это суббота и воскресенье, а 0-4 - будние дни\n",
    "df['weekday']=df.date.dt.weekday"
   ]
  },
  {
   "cell_type": "code",
   "execution_count": 92,
   "id": "a725ef3e",
   "metadata": {},
   "outputs": [],
   "source": [
    "#добавим поле 'CR_visits_tr' - коэффициент конверсии\n",
    "df['CR_visits_tr']=df['transactions']/df['visits']"
   ]
  },
  {
   "cell_type": "code",
   "execution_count": 193,
   "id": "ec3ddf22",
   "metadata": {},
   "outputs": [
    {
     "data": {
      "text/html": [
       "<div>\n",
       "<style scoped>\n",
       "    .dataframe tbody tr th:only-of-type {\n",
       "        vertical-align: middle;\n",
       "    }\n",
       "\n",
       "    .dataframe tbody tr th {\n",
       "        vertical-align: top;\n",
       "    }\n",
       "\n",
       "    .dataframe thead th {\n",
       "        text-align: right;\n",
       "    }\n",
       "</style>\n",
       "<table border=\"1\" class=\"dataframe\">\n",
       "  <thead>\n",
       "    <tr style=\"text-align: right;\">\n",
       "      <th></th>\n",
       "      <th>date</th>\n",
       "      <th>source</th>\n",
       "      <th>medium</th>\n",
       "      <th>delivery_available</th>\n",
       "      <th>device_type</th>\n",
       "      <th>promo_activated</th>\n",
       "      <th>filter_used</th>\n",
       "      <th>pageviews</th>\n",
       "      <th>visits</th>\n",
       "      <th>productClick</th>\n",
       "      <th>addToCart</th>\n",
       "      <th>checkout</th>\n",
       "      <th>transactions</th>\n",
       "      <th>revenue</th>\n",
       "      <th>period</th>\n",
       "      <th>weekday</th>\n",
       "      <th>CR_visits_tr</th>\n",
       "    </tr>\n",
       "  </thead>\n",
       "  <tbody>\n",
       "    <tr>\n",
       "      <th>0</th>\n",
       "      <td>2020-05-11</td>\n",
       "      <td>google</td>\n",
       "      <td>organic</td>\n",
       "      <td>Не определено</td>\n",
       "      <td>Десктоп</td>\n",
       "      <td>no</td>\n",
       "      <td>no</td>\n",
       "      <td>3120</td>\n",
       "      <td>1233</td>\n",
       "      <td>5240</td>\n",
       "      <td>1048</td>\n",
       "      <td>525</td>\n",
       "      <td>90</td>\n",
       "      <td>86649.0</td>\n",
       "      <td>2020-05</td>\n",
       "      <td>0</td>\n",
       "      <td>0.072993</td>\n",
       "    </tr>\n",
       "    <tr>\n",
       "      <th>1</th>\n",
       "      <td>2020-05-11</td>\n",
       "      <td>yandex</td>\n",
       "      <td>cpc</td>\n",
       "      <td>Не определено</td>\n",
       "      <td>Мобайл</td>\n",
       "      <td>yes</td>\n",
       "      <td>no</td>\n",
       "      <td>3302</td>\n",
       "      <td>544</td>\n",
       "      <td>9930</td>\n",
       "      <td>1984</td>\n",
       "      <td>1416</td>\n",
       "      <td>217</td>\n",
       "      <td>244478.0</td>\n",
       "      <td>2020-05</td>\n",
       "      <td>0</td>\n",
       "      <td>0.398897</td>\n",
       "    </tr>\n",
       "    <tr>\n",
       "      <th>2</th>\n",
       "      <td>2020-05-11</td>\n",
       "      <td>google</td>\n",
       "      <td>cpc</td>\n",
       "      <td>Не определено</td>\n",
       "      <td>Мобайл</td>\n",
       "      <td>no</td>\n",
       "      <td>no</td>\n",
       "      <td>2970</td>\n",
       "      <td>1450</td>\n",
       "      <td>5460</td>\n",
       "      <td>1090</td>\n",
       "      <td>599</td>\n",
       "      <td>100</td>\n",
       "      <td>105150.0</td>\n",
       "      <td>2020-05</td>\n",
       "      <td>0</td>\n",
       "      <td>0.068966</td>\n",
       "    </tr>\n",
       "    <tr>\n",
       "      <th>3</th>\n",
       "      <td>2020-05-11</td>\n",
       "      <td>google</td>\n",
       "      <td>cpc</td>\n",
       "      <td>Не определено</td>\n",
       "      <td>Десктоп</td>\n",
       "      <td>no</td>\n",
       "      <td>no</td>\n",
       "      <td>1875</td>\n",
       "      <td>854</td>\n",
       "      <td>4250</td>\n",
       "      <td>848</td>\n",
       "      <td>407</td>\n",
       "      <td>71</td>\n",
       "      <td>79003.0</td>\n",
       "      <td>2020-05</td>\n",
       "      <td>0</td>\n",
       "      <td>0.083138</td>\n",
       "    </tr>\n",
       "    <tr>\n",
       "      <th>4</th>\n",
       "      <td>2020-05-11</td>\n",
       "      <td>yandex</td>\n",
       "      <td>organic</td>\n",
       "      <td>Не определено</td>\n",
       "      <td>Десктоп</td>\n",
       "      <td>no</td>\n",
       "      <td>no</td>\n",
       "      <td>2159</td>\n",
       "      <td>1000</td>\n",
       "      <td>4110</td>\n",
       "      <td>824</td>\n",
       "      <td>351</td>\n",
       "      <td>62</td>\n",
       "      <td>61861.0</td>\n",
       "      <td>2020-05</td>\n",
       "      <td>0</td>\n",
       "      <td>0.062000</td>\n",
       "    </tr>\n",
       "  </tbody>\n",
       "</table>\n",
       "</div>"
      ],
      "text/plain": [
       "        date  source   medium delivery_available device_type promo_activated  \\\n",
       "0 2020-05-11  google  organic      Не определено     Десктоп              no   \n",
       "1 2020-05-11  yandex      cpc      Не определено      Мобайл             yes   \n",
       "2 2020-05-11  google      cpc      Не определено      Мобайл              no   \n",
       "3 2020-05-11  google      cpc      Не определено     Десктоп              no   \n",
       "4 2020-05-11  yandex  organic      Не определено     Десктоп              no   \n",
       "\n",
       "  filter_used  pageviews  visits  productClick  addToCart  checkout  \\\n",
       "0          no       3120    1233          5240       1048       525   \n",
       "1          no       3302     544          9930       1984      1416   \n",
       "2          no       2970    1450          5460       1090       599   \n",
       "3          no       1875     854          4250        848       407   \n",
       "4          no       2159    1000          4110        824       351   \n",
       "\n",
       "   transactions   revenue   period  weekday  CR_visits_tr  \n",
       "0            90   86649.0  2020-05        0      0.072993  \n",
       "1           217  244478.0  2020-05        0      0.398897  \n",
       "2           100  105150.0  2020-05        0      0.068966  \n",
       "3            71   79003.0  2020-05        0      0.083138  \n",
       "4            62   61861.0  2020-05        0      0.062000  "
      ]
     },
     "execution_count": 193,
     "metadata": {},
     "output_type": "execute_result"
    }
   ],
   "source": [
    "df.head()"
   ]
  },
  {
   "cell_type": "code",
   "execution_count": 179,
   "id": "4fb2e27c",
   "metadata": {},
   "outputs": [
    {
     "data": {
      "text/html": [
       "<div>\n",
       "<style scoped>\n",
       "    .dataframe tbody tr th:only-of-type {\n",
       "        vertical-align: middle;\n",
       "    }\n",
       "\n",
       "    .dataframe tbody tr th {\n",
       "        vertical-align: top;\n",
       "    }\n",
       "\n",
       "    .dataframe thead th {\n",
       "        text-align: right;\n",
       "    }\n",
       "</style>\n",
       "<table border=\"1\" class=\"dataframe\">\n",
       "  <thead>\n",
       "    <tr style=\"text-align: right;\">\n",
       "      <th></th>\n",
       "      <th>date</th>\n",
       "      <th>source</th>\n",
       "      <th>medium</th>\n",
       "      <th>delivery_available</th>\n",
       "      <th>device_type</th>\n",
       "      <th>promo_activated</th>\n",
       "      <th>filter_used</th>\n",
       "      <th>pageviews</th>\n",
       "      <th>visits</th>\n",
       "      <th>productClick</th>\n",
       "      <th>addToCart</th>\n",
       "      <th>checkout</th>\n",
       "      <th>transactions</th>\n",
       "      <th>revenue</th>\n",
       "      <th>period</th>\n",
       "      <th>weekday</th>\n",
       "      <th>CR_visits_tr</th>\n",
       "      <th>CR_checkout_tr</th>\n",
       "    </tr>\n",
       "  </thead>\n",
       "  <tbody>\n",
       "    <tr>\n",
       "      <th>208</th>\n",
       "      <td>2020-05-22</td>\n",
       "      <td>facebook</td>\n",
       "      <td>social</td>\n",
       "      <td>Не определено</td>\n",
       "      <td>Мобайл</td>\n",
       "      <td>yes</td>\n",
       "      <td>no</td>\n",
       "      <td>174</td>\n",
       "      <td>62</td>\n",
       "      <td>760</td>\n",
       "      <td>152</td>\n",
       "      <td>75</td>\n",
       "      <td>0</td>\n",
       "      <td>0.0</td>\n",
       "      <td>2020-05</td>\n",
       "      <td>4</td>\n",
       "      <td>0.0</td>\n",
       "      <td>0.0</td>\n",
       "    </tr>\n",
       "    <tr>\n",
       "      <th>305</th>\n",
       "      <td>2020-02-22</td>\n",
       "      <td>facebook</td>\n",
       "      <td>social</td>\n",
       "      <td>Не определено</td>\n",
       "      <td>Мобайл</td>\n",
       "      <td>no</td>\n",
       "      <td>no</td>\n",
       "      <td>288</td>\n",
       "      <td>214</td>\n",
       "      <td>370</td>\n",
       "      <td>74</td>\n",
       "      <td>22</td>\n",
       "      <td>0</td>\n",
       "      <td>0.0</td>\n",
       "      <td>2020-02</td>\n",
       "      <td>5</td>\n",
       "      <td>0.0</td>\n",
       "      <td>0.0</td>\n",
       "    </tr>\n",
       "    <tr>\n",
       "      <th>2244</th>\n",
       "      <td>2020-05-19</td>\n",
       "      <td>facebook</td>\n",
       "      <td>social</td>\n",
       "      <td>Не определено</td>\n",
       "      <td>Мобайл</td>\n",
       "      <td>yes</td>\n",
       "      <td>no</td>\n",
       "      <td>112</td>\n",
       "      <td>46</td>\n",
       "      <td>430</td>\n",
       "      <td>86</td>\n",
       "      <td>41</td>\n",
       "      <td>0</td>\n",
       "      <td>0.0</td>\n",
       "      <td>2020-05</td>\n",
       "      <td>1</td>\n",
       "      <td>0.0</td>\n",
       "      <td>0.0</td>\n",
       "    </tr>\n",
       "    <tr>\n",
       "      <th>2271</th>\n",
       "      <td>2020-02-09</td>\n",
       "      <td>facebook</td>\n",
       "      <td>social</td>\n",
       "      <td>Не определено</td>\n",
       "      <td>Мобайл</td>\n",
       "      <td>no</td>\n",
       "      <td>no</td>\n",
       "      <td>494</td>\n",
       "      <td>414</td>\n",
       "      <td>300</td>\n",
       "      <td>60</td>\n",
       "      <td>22</td>\n",
       "      <td>0</td>\n",
       "      <td>0.0</td>\n",
       "      <td>2020-02</td>\n",
       "      <td>6</td>\n",
       "      <td>0.0</td>\n",
       "      <td>0.0</td>\n",
       "    </tr>\n",
       "    <tr>\n",
       "      <th>5063</th>\n",
       "      <td>2020-09-16</td>\n",
       "      <td>yandex</td>\n",
       "      <td>organic</td>\n",
       "      <td>Не определено</td>\n",
       "      <td>Мобайл</td>\n",
       "      <td>yes</td>\n",
       "      <td>yes</td>\n",
       "      <td>215</td>\n",
       "      <td>12</td>\n",
       "      <td>300</td>\n",
       "      <td>60</td>\n",
       "      <td>46</td>\n",
       "      <td>0</td>\n",
       "      <td>0.0</td>\n",
       "      <td>2020-09</td>\n",
       "      <td>2</td>\n",
       "      <td>0.0</td>\n",
       "      <td>0.0</td>\n",
       "    </tr>\n",
       "    <tr>\n",
       "      <th>...</th>\n",
       "      <td>...</td>\n",
       "      <td>...</td>\n",
       "      <td>...</td>\n",
       "      <td>...</td>\n",
       "      <td>...</td>\n",
       "      <td>...</td>\n",
       "      <td>...</td>\n",
       "      <td>...</td>\n",
       "      <td>...</td>\n",
       "      <td>...</td>\n",
       "      <td>...</td>\n",
       "      <td>...</td>\n",
       "      <td>...</td>\n",
       "      <td>...</td>\n",
       "      <td>...</td>\n",
       "      <td>...</td>\n",
       "      <td>...</td>\n",
       "      <td>...</td>\n",
       "    </tr>\n",
       "    <tr>\n",
       "      <th>52432</th>\n",
       "      <td>2020-06-02</td>\n",
       "      <td>(direct)</td>\n",
       "      <td>(none)</td>\n",
       "      <td>Доставка есть</td>\n",
       "      <td>Мобайл</td>\n",
       "      <td>yes</td>\n",
       "      <td>yes</td>\n",
       "      <td>104</td>\n",
       "      <td>1</td>\n",
       "      <td>240</td>\n",
       "      <td>48</td>\n",
       "      <td>103</td>\n",
       "      <td>0</td>\n",
       "      <td>0.0</td>\n",
       "      <td>2020-06</td>\n",
       "      <td>1</td>\n",
       "      <td>0.0</td>\n",
       "      <td>0.0</td>\n",
       "    </tr>\n",
       "    <tr>\n",
       "      <th>52437</th>\n",
       "      <td>2020-06-17</td>\n",
       "      <td>facebook</td>\n",
       "      <td>social</td>\n",
       "      <td>Не определено</td>\n",
       "      <td>Мобайл</td>\n",
       "      <td>yes</td>\n",
       "      <td>no</td>\n",
       "      <td>74</td>\n",
       "      <td>26</td>\n",
       "      <td>250</td>\n",
       "      <td>50</td>\n",
       "      <td>16</td>\n",
       "      <td>0</td>\n",
       "      <td>0.0</td>\n",
       "      <td>2020-06</td>\n",
       "      <td>2</td>\n",
       "      <td>0.0</td>\n",
       "      <td>0.0</td>\n",
       "    </tr>\n",
       "    <tr>\n",
       "      <th>52470</th>\n",
       "      <td>2020-02-02</td>\n",
       "      <td>facebook</td>\n",
       "      <td>social</td>\n",
       "      <td>Не определено</td>\n",
       "      <td>Мобайл</td>\n",
       "      <td>no</td>\n",
       "      <td>no</td>\n",
       "      <td>199</td>\n",
       "      <td>160</td>\n",
       "      <td>250</td>\n",
       "      <td>50</td>\n",
       "      <td>6</td>\n",
       "      <td>0</td>\n",
       "      <td>0.0</td>\n",
       "      <td>2020-02</td>\n",
       "      <td>6</td>\n",
       "      <td>0.0</td>\n",
       "      <td>0.0</td>\n",
       "    </tr>\n",
       "    <tr>\n",
       "      <th>52517</th>\n",
       "      <td>2020-09-01</td>\n",
       "      <td>(direct)</td>\n",
       "      <td>(none)</td>\n",
       "      <td>Доставки нет</td>\n",
       "      <td>Десктоп</td>\n",
       "      <td>yes</td>\n",
       "      <td>no</td>\n",
       "      <td>94</td>\n",
       "      <td>6</td>\n",
       "      <td>250</td>\n",
       "      <td>50</td>\n",
       "      <td>32</td>\n",
       "      <td>0</td>\n",
       "      <td>0.0</td>\n",
       "      <td>2020-09</td>\n",
       "      <td>1</td>\n",
       "      <td>0.0</td>\n",
       "      <td>0.0</td>\n",
       "    </tr>\n",
       "    <tr>\n",
       "      <th>52597</th>\n",
       "      <td>2020-06-16</td>\n",
       "      <td>google</td>\n",
       "      <td>organic</td>\n",
       "      <td>Доставки нет</td>\n",
       "      <td>Десктоп</td>\n",
       "      <td>yes</td>\n",
       "      <td>no</td>\n",
       "      <td>38</td>\n",
       "      <td>2</td>\n",
       "      <td>250</td>\n",
       "      <td>50</td>\n",
       "      <td>31</td>\n",
       "      <td>0</td>\n",
       "      <td>0.0</td>\n",
       "      <td>2020-06</td>\n",
       "      <td>1</td>\n",
       "      <td>0.0</td>\n",
       "      <td>0.0</td>\n",
       "    </tr>\n",
       "  </tbody>\n",
       "</table>\n",
       "<p>14271 rows × 18 columns</p>\n",
       "</div>"
      ],
      "text/plain": [
       "            date    source   medium delivery_available device_type  \\\n",
       "208   2020-05-22  facebook   social      Не определено      Мобайл   \n",
       "305   2020-02-22  facebook   social      Не определено      Мобайл   \n",
       "2244  2020-05-19  facebook   social      Не определено      Мобайл   \n",
       "2271  2020-02-09  facebook   social      Не определено      Мобайл   \n",
       "5063  2020-09-16    yandex  organic      Не определено      Мобайл   \n",
       "...          ...       ...      ...                ...         ...   \n",
       "52432 2020-06-02  (direct)   (none)      Доставка есть      Мобайл   \n",
       "52437 2020-06-17  facebook   social      Не определено      Мобайл   \n",
       "52470 2020-02-02  facebook   social      Не определено      Мобайл   \n",
       "52517 2020-09-01  (direct)   (none)       Доставки нет     Десктоп   \n",
       "52597 2020-06-16    google  organic       Доставки нет     Десктоп   \n",
       "\n",
       "      promo_activated filter_used  pageviews  visits  productClick  addToCart  \\\n",
       "208               yes          no        174      62           760        152   \n",
       "305                no          no        288     214           370         74   \n",
       "2244              yes          no        112      46           430         86   \n",
       "2271               no          no        494     414           300         60   \n",
       "5063              yes         yes        215      12           300         60   \n",
       "...               ...         ...        ...     ...           ...        ...   \n",
       "52432             yes         yes        104       1           240         48   \n",
       "52437             yes          no         74      26           250         50   \n",
       "52470              no          no        199     160           250         50   \n",
       "52517             yes          no         94       6           250         50   \n",
       "52597             yes          no         38       2           250         50   \n",
       "\n",
       "       checkout  transactions  revenue   period  weekday  CR_visits_tr  \\\n",
       "208          75             0      0.0  2020-05        4           0.0   \n",
       "305          22             0      0.0  2020-02        5           0.0   \n",
       "2244         41             0      0.0  2020-05        1           0.0   \n",
       "2271         22             0      0.0  2020-02        6           0.0   \n",
       "5063         46             0      0.0  2020-09        2           0.0   \n",
       "...         ...           ...      ...      ...      ...           ...   \n",
       "52432       103             0      0.0  2020-06        1           0.0   \n",
       "52437        16             0      0.0  2020-06        2           0.0   \n",
       "52470         6             0      0.0  2020-02        6           0.0   \n",
       "52517        32             0      0.0  2020-09        1           0.0   \n",
       "52597        31             0      0.0  2020-06        1           0.0   \n",
       "\n",
       "       CR_checkout_tr  \n",
       "208               0.0  \n",
       "305               0.0  \n",
       "2244              0.0  \n",
       "2271              0.0  \n",
       "5063              0.0  \n",
       "...               ...  \n",
       "52432             0.0  \n",
       "52437             0.0  \n",
       "52470             0.0  \n",
       "52517             0.0  \n",
       "52597             0.0  \n",
       "\n",
       "[14271 rows x 18 columns]"
      ]
     },
     "execution_count": 179,
     "metadata": {},
     "output_type": "execute_result"
    }
   ],
   "source": [
    "df[df.transactions==0]"
   ]
  },
  {
   "cell_type": "code",
   "execution_count": 99,
   "id": "9dc34bf8",
   "metadata": {},
   "outputs": [
    {
     "data": {
      "text/plain": [
       "<AxesSubplot:>"
      ]
     },
     "execution_count": 99,
     "metadata": {},
     "output_type": "execute_result"
    },
    {
     "data": {
      "image/png": "[encoded data removed]",
      "text/plain": [
       "<Figure size 432x288 with 1 Axes>"
      ]
     },
     "metadata": {
      "needs_background": "light"
     },
     "output_type": "display_data"
    }
   ],
   "source": [
    "#распределение коэффициента конверсии - не нормальное, поэтому применим метод Bootstrap для анализа двух групп - покупателей\n",
    "#в будни (test) и выходные (ctrl)\n",
    "df['CR_visits_tr'].hist()"
   ]
  },
  {
   "cell_type": "code",
   "execution_count": 129,
   "id": "acf2f1d8",
   "metadata": {},
   "outputs": [],
   "source": [
    "ctrl = df[(df['weekday']==5) | (df['weekday']==6)]['CR_visits_tr'].values"
   ]
  },
  {
   "cell_type": "code",
   "execution_count": 130,
   "id": "e109cd7e",
   "metadata": {},
   "outputs": [],
   "source": [
    "test = df[(df['weekday']!=5) & (df['weekday']!=6)]['CR_visits_tr'].values"
   ]
  },
  {
   "cell_type": "code",
   "execution_count": 126,
   "id": "d64f5167",
   "metadata": {},
   "outputs": [
    {
     "data": {
      "text/plain": [
       "15482"
      ]
     },
     "execution_count": 126,
     "metadata": {},
     "output_type": "execute_result"
    }
   ],
   "source": [
    "len(ctrl)"
   ]
  },
  {
   "cell_type": "code",
   "execution_count": 127,
   "id": "d73dc8e8",
   "metadata": {},
   "outputs": [
    {
     "data": {
      "text/plain": [
       "37242"
      ]
     },
     "execution_count": 127,
     "metadata": {},
     "output_type": "execute_result"
    }
   ],
   "source": [
    "len(test)"
   ]
  },
  {
   "cell_type": "code",
   "execution_count": 139,
   "id": "13f84844",
   "metadata": {},
   "outputs": [
    {
     "data": {
      "text/plain": [
       "0.40007239268076883"
      ]
     },
     "execution_count": 139,
     "metadata": {},
     "output_type": "execute_result"
    }
   ],
   "source": [
    "ctrl.mean()"
   ]
  },
  {
   "cell_type": "code",
   "execution_count": 135,
   "id": "ca97a565",
   "metadata": {},
   "outputs": [
    {
     "data": {
      "text/plain": [
       "0.3762875491723773"
      ]
     },
     "execution_count": 135,
     "metadata": {},
     "output_type": "execute_result"
    }
   ],
   "source": [
    "test.mean()"
   ]
  },
  {
   "cell_type": "code",
   "execution_count": 120,
   "id": "b4c1ecfd",
   "metadata": {},
   "outputs": [
    {
     "name": "stdout",
     "output_type": "stream",
     "text": [
      "Collecting bootstrapped\n",
      "  Downloading bootstrapped-0.0.2.tar.gz (11 kB)\n",
      "Requirement already satisfied: matplotlib>=1.5.3 in c:\\programdata\\anaconda3\\lib\\site-packages (from bootstrapped) (3.5.1)\n",
      "Requirement already satisfied: numpy>=1.11.1 in c:\\programdata\\anaconda3\\lib\\site-packages (from bootstrapped) (1.21.5)\n",
      "Requirement already satisfied: pandas>=0.18.1 in c:\\programdata\\anaconda3\\lib\\site-packages (from bootstrapped) (1.4.2)\n",
      "Requirement already satisfied: packaging>=20.0 in c:\\programdata\\anaconda3\\lib\\site-packages (from matplotlib>=1.5.3->bootstrapped) (21.3)\n",
      "Requirement already satisfied: pyparsing>=2.2.1 in c:\\programdata\\anaconda3\\lib\\site-packages (from matplotlib>=1.5.3->bootstrapped) (3.0.4)\n",
      "Requirement already satisfied: fonttools>=4.22.0 in c:\\programdata\\anaconda3\\lib\\site-packages (from matplotlib>=1.5.3->bootstrapped) (4.25.0)\n",
      "Requirement already satisfied: kiwisolver>=1.0.1 in c:\\programdata\\anaconda3\\lib\\site-packages (from matplotlib>=1.5.3->bootstrapped) (1.3.2)\n",
      "Requirement already satisfied: python-dateutil>=2.7 in c:\\programdata\\anaconda3\\lib\\site-packages (from matplotlib>=1.5.3->bootstrapped) (2.8.2)\n",
      "Requirement already satisfied: cycler>=0.10 in c:\\programdata\\anaconda3\\lib\\site-packages (from matplotlib>=1.5.3->bootstrapped) (0.11.0)\n",
      "Requirement already satisfied: pillow>=6.2.0 in c:\\programdata\\anaconda3\\lib\\site-packages (from matplotlib>=1.5.3->bootstrapped) (9.0.1)\n",
      "Requirement already satisfied: pytz>=2020.1 in c:\\programdata\\anaconda3\\lib\\site-packages (from pandas>=0.18.1->bootstrapped) (2021.3)\n",
      "Requirement already satisfied: six>=1.5 in c:\\programdata\\anaconda3\\lib\\site-packages (from python-dateutil>=2.7->matplotlib>=1.5.3->bootstrapped) (1.16.0)\n",
      "Building wheels for collected packages: bootstrapped\n",
      "  Building wheel for bootstrapped (setup.py): started\n",
      "  Building wheel for bootstrapped (setup.py): finished with status 'done'\n",
      "  Created wheel for bootstrapped: filename=bootstrapped-0.0.2-py2.py3-none-any.whl size=13954 sha256=0186a7a8b1b59d2efa87dce5fbcaa7d32464c3cbf76ef8f23c9d5a78b7960775\n"
     ]
    },
    {
     "name": "stderr",
     "output_type": "stream",
     "text": [
      "WARNING: Retrying (Retry(total=4, connect=None, read=None, redirect=None, status=None)) after connection broken by 'SSLError(SSLCertVerificationError(1, '[SSL: CERTIFICATE_VERIFY_FAILED] certificate verify failed: unable to get local issuer certificate (_ssl.c:1129)'))': /simple/bootstrapped/\n",
      "  WARNING: Retrying (Retry(total=4, connect=None, read=None, redirect=None, status=None)) after connection broken by 'SSLError(SSLCertVerificationError(1, '[SSL: CERTIFICATE_VERIFY_FAILED] certificate verify failed: unable to get local issuer certificate (_ssl.c:1129)'))': /packages/b2/f7/beb22809fdc4781ae73d12c78e2cf14ae533ad9eec2fb84ec22e5b0b660c/bootstrapped-0.0.2.tar.gz\n"
     ]
    },
    {
     "name": "stdout",
     "output_type": "stream",
     "text": [
      "  Stored in directory: c:\\users\\администратор\\appdata\\local\\pip\\cache\\wheels\\a9\\7b\\e9\\000ad8cb18a35a7d68051b362c96a867cd24b7b0c7b478329d\n",
      "Successfully built bootstrapped\n",
      "Installing collected packages: bootstrapped\n",
      "Successfully installed bootstrapped-0.0.2\n"
     ]
    }
   ],
   "source": [
    "!pip install bootstrapped"
   ]
  },
  {
   "cell_type": "code",
   "execution_count": 122,
   "id": "972720f4",
   "metadata": {},
   "outputs": [],
   "source": [
    "#загрузим библиотеки, применим функцию bootstrap_ab\n",
    "import bootstrapped.bootstrap as bs\n",
    "import  bootstrapped.stats_functions as bs_stats\n",
    "import  bootstrapped.compare_functions as bs_compare"
   ]
  },
  {
   "cell_type": "code",
   "execution_count": 174,
   "id": "d51b4ebe",
   "metadata": {},
   "outputs": [],
   "source": [
    "boot_results = bs.bootstrap_ab(test=test, ctrl=ctrl, stat_func = bs_stats.mean, compare_func = bs_compare.difference, \n",
    "                              return_distribution=True)"
   ]
  },
  {
   "cell_type": "code",
   "execution_count": 175,
   "id": "43b0f112",
   "metadata": {},
   "outputs": [
    {
     "data": {
      "text/plain": [
       "<AxesSubplot:>"
      ]
     },
     "execution_count": 175,
     "metadata": {},
     "output_type": "execute_result"
    },
    {
     "data": {
      "image/png": "[encoded data removed]",
      "text/plain": [
       "<Figure size 432x288 with 1 Axes>"
      ]
     },
     "metadata": {
      "needs_background": "light"
     },
     "output_type": "display_data"
    }
   ],
   "source": [
    "pd.Series(boot_results).hist()"
   ]
  },
  {
   "cell_type": "code",
   "execution_count": 176,
   "id": "5835adcf",
   "metadata": {},
   "outputs": [],
   "source": [
    "borders = np.percentile(boot_results, [2.5, 97.5])"
   ]
  },
  {
   "cell_type": "code",
   "execution_count": 177,
   "id": "3ae2caf7",
   "metadata": {},
   "outputs": [
    {
     "data": {
      "text/plain": [
       "array([-0.03084145, -0.0167014 ])"
      ]
     },
     "execution_count": 177,
     "metadata": {},
     "output_type": "execute_result"
    }
   ],
   "source": [
    "borders"
   ]
  },
  {
   "cell_type": "code",
   "execution_count": null,
   "id": "ba1c0f28",
   "metadata": {},
   "outputs": [],
   "source": [
    "#95%-ный доверительный интервал не включает 0, значит разница между группами статистически значима \n",
    "#(конверсия в выходные лучше конверсии в будние дни)"
   ]
  },
  {
   "cell_type": "code",
   "execution_count": 144,
   "id": "1bb47298",
   "metadata": {},
   "outputs": [],
   "source": [
    "from tqdm.notebook import tqdm"
   ]
  },
  {
   "cell_type": "code",
   "execution_count": 166,
   "id": "5b76ea69",
   "metadata": {},
   "outputs": [
    {
     "data": {
      "application/vnd.jupyter.widget-view+json": {
       "model_id": "5697147026ef4d8ca11525d54fceec45",
       "version_major": 2,
       "version_minor": 0
      },
      "text/plain": [
       "  0%|          | 0/1000 [00:00<?, ?it/s]"
      ]
     },
     "metadata": {},
     "output_type": "display_data"
    }
   ],
   "source": [
    "#проведем Бутстрап в ручном режиме\n",
    "n=1000\n",
    "result=[]\n",
    "for _ in tqdm(range(n)):\n",
    "    a=pd.Series(test).sample(len(test),replace=True).mean()\n",
    "    b=pd.Series(ctrl).sample(len(ctrl),replace=True).mean()\n",
    "    result.append(a-b)"
   ]
  },
  {
   "cell_type": "code",
   "execution_count": 167,
   "id": "5b87bc6c",
   "metadata": {},
   "outputs": [
    {
     "data": {
      "text/plain": [
       "<AxesSubplot:>"
      ]
     },
     "execution_count": 167,
     "metadata": {},
     "output_type": "execute_result"
    },
    {
     "data": {
      "image/png": "[encoded data removed]",
      "text/plain": [
       "<Figure size 432x288 with 1 Axes>"
      ]
     },
     "metadata": {
      "needs_background": "light"
     },
     "output_type": "display_data"
    }
   ],
   "source": [
    "pd.Series(result).hist()"
   ]
  },
  {
   "cell_type": "code",
   "execution_count": 170,
   "id": "1520fb93",
   "metadata": {},
   "outputs": [
    {
     "data": {
      "text/plain": [
       "array([-0.03091645, -0.01698228])"
      ]
     },
     "execution_count": 170,
     "metadata": {},
     "output_type": "execute_result"
    }
   ],
   "source": [
    "borders1 = np.percentile(result, [2.5, 97.5])\n",
    "borders1"
   ]
  },
  {
   "cell_type": "code",
   "execution_count": null,
   "id": "1e3c49af",
   "metadata": {},
   "outputs": [],
   "source": [
    "# результат ручного анализа аналогичен результату, полученному от функции,\n",
    "#95%-ный доверительный интервал не включает 0, значит разница между группами статистически значима \n",
    "#(конверсия в выходные лучше конверсии в будние дни)"
   ]
  },
  {
   "cell_type": "code",
   "execution_count": 171,
   "id": "017c38cb",
   "metadata": {},
   "outputs": [
    {
     "data": {
      "application/vnd.jupyter.widget-view+json": {
       "model_id": "34144c5e31764b99aa00089defb4a916",
       "version_major": 2,
       "version_minor": 0
      },
      "text/plain": [
       "  0%|          | 0/1000 [00:00<?, ?it/s]"
      ]
     },
     "metadata": {},
     "output_type": "display_data"
    }
   ],
   "source": [
    "#ручной Бутстрап с медианой \n",
    "n=1000\n",
    "result=[]\n",
    "for _ in tqdm(range(n)):\n",
    "    a=pd.Series(test).sample(len(test),replace=True).median()\n",
    "    b=pd.Series(ctrl).sample(len(ctrl),replace=True).median()\n",
    "    result.append(a-b)"
   ]
  },
  {
   "cell_type": "code",
   "execution_count": 172,
   "id": "9d0b8535",
   "metadata": {},
   "outputs": [
    {
     "data": {
      "text/plain": [
       "<AxesSubplot:>"
      ]
     },
     "execution_count": 172,
     "metadata": {},
     "output_type": "execute_result"
    },
    {
     "data": {
      "image/png": "[encoded data removed]",
      "text/plain": [
       "<Figure size 432x288 with 1 Axes>"
      ]
     },
     "metadata": {
      "needs_background": "light"
     },
     "output_type": "display_data"
    }
   ],
   "source": [
    "pd.Series(result).hist()"
   ]
  },
  {
   "cell_type": "code",
   "execution_count": 173,
   "id": "a4e5bd9c",
   "metadata": {},
   "outputs": [
    {
     "data": {
      "text/plain": [
       "array([-0.06683774, -0.0361482 ])"
      ]
     },
     "execution_count": 173,
     "metadata": {},
     "output_type": "execute_result"
    }
   ],
   "source": [
    "borders1 = np.percentile(result, [2.5, 97.5])\n",
    "borders1"
   ]
  },
  {
   "cell_type": "code",
   "execution_count": null,
   "id": "1f732da1",
   "metadata": {},
   "outputs": [],
   "source": [
    "#результат аналогичен предыдущим двум пунктам"
   ]
  }
 ],
 "metadata": {
  "kernelspec": {
   "display_name": "Python 3 (ipykernel)",
   "language": "python",
   "name": "python3"
  },
  "language_info": {
   "codemirror_mode": {
    "name": "ipython",
    "version": 3
   },
   "file_extension": ".py",
   "mimetype": "text/x-python",
   "name": "python",
   "nbconvert_exporter": "python",
   "pygments_lexer": "ipython3",
   "version": "3.9.12"
  }
 },
 "nbformat": 4,
 "nbformat_minor": 5
}
